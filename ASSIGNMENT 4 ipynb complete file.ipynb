{
 "cells": [
  {
   "cell_type": "code",
   "execution_count": 1,
   "id": "a0578984",
   "metadata": {},
   "outputs": [
    {
     "name": "stdout",
     "output_type": "stream",
     "text": [
      "Requirement already satisfied: selenium in c:\\users\\md\\anaconda3\\lib\\site-packages (4.7.2)\n",
      "Requirement already satisfied: trio-websocket~=0.9 in c:\\users\\md\\anaconda3\\lib\\site-packages (from selenium) (0.9.2)\n",
      "Requirement already satisfied: urllib3[socks]~=1.26 in c:\\users\\md\\anaconda3\\lib\\site-packages (from selenium) (1.26.11)\n",
      "Requirement already satisfied: trio~=0.17 in c:\\users\\md\\anaconda3\\lib\\site-packages (from selenium) (0.22.0)\n",
      "Requirement already satisfied: certifi>=2021.10.8 in c:\\users\\md\\anaconda3\\lib\\site-packages (from selenium) (2022.9.14)\n",
      "Requirement already satisfied: sniffio in c:\\users\\md\\anaconda3\\lib\\site-packages (from trio~=0.17->selenium) (1.2.0)\n",
      "Requirement already satisfied: async-generator>=1.9 in c:\\users\\md\\anaconda3\\lib\\site-packages (from trio~=0.17->selenium) (1.10)\n",
      "Requirement already satisfied: cffi>=1.14 in c:\\users\\md\\anaconda3\\lib\\site-packages (from trio~=0.17->selenium) (1.15.1)\n",
      "Requirement already satisfied: outcome in c:\\users\\md\\anaconda3\\lib\\site-packages (from trio~=0.17->selenium) (1.2.0)\n",
      "Requirement already satisfied: sortedcontainers in c:\\users\\md\\anaconda3\\lib\\site-packages (from trio~=0.17->selenium) (2.4.0)\n",
      "Requirement already satisfied: attrs>=19.2.0 in c:\\users\\md\\anaconda3\\lib\\site-packages (from trio~=0.17->selenium) (21.4.0)\n",
      "Requirement already satisfied: exceptiongroup>=1.0.0rc9 in c:\\users\\md\\anaconda3\\lib\\site-packages (from trio~=0.17->selenium) (1.0.4)\n",
      "Requirement already satisfied: idna in c:\\users\\md\\anaconda3\\lib\\site-packages (from trio~=0.17->selenium) (3.3)\n",
      "Requirement already satisfied: wsproto>=0.14 in c:\\users\\md\\anaconda3\\lib\\site-packages (from trio-websocket~=0.9->selenium) (1.2.0)\n",
      "Requirement already satisfied: PySocks!=1.5.7,<2.0,>=1.5.6 in c:\\users\\md\\anaconda3\\lib\\site-packages (from urllib3[socks]~=1.26->selenium) (1.7.1)\n",
      "Requirement already satisfied: pycparser in c:\\users\\md\\anaconda3\\lib\\site-packages (from cffi>=1.14->trio~=0.17->selenium) (2.21)\n",
      "Requirement already satisfied: h11<1,>=0.9.0 in c:\\users\\md\\anaconda3\\lib\\site-packages (from wsproto>=0.14->trio-websocket~=0.9->selenium) (0.14.0)\n",
      "Note: you may need to restart the kernel to use updated packages.\n"
     ]
    }
   ],
   "source": [
    "pip install selenium"
   ]
  },
  {
   "cell_type": "code",
   "execution_count": 2,
   "id": "14fda4bb",
   "metadata": {},
   "outputs": [],
   "source": [
    "# import the libraries\n",
    "import selenium \n",
    "import pandas as pd\n",
    "from selenium import webdriver \n",
    "import warnings\n",
    "warnings.filterwarnings('ignore')\n",
    "from selenium.common.exceptions import NoSuchElementException\n",
    "from selenium.webdriver.common.by import By\n",
    "import time"
   ]
  },
  {
   "cell_type": "markdown",
   "id": "2eddcac5",
   "metadata": {},
   "source": [
    "# Q1. Scrap the details of most viewed youtube video from wikipedia."
   ]
  },
  {
   "cell_type": "code",
   "execution_count": 15,
   "id": "6d747d19",
   "metadata": {},
   "outputs": [],
   "source": [
    "#lets first connect to the driver  # this is method one to connect to the webdriver # this s good.\n",
    "driver=webdriver.Chrome(r\"C:\\Users\\md\\Downloads\\chromedriver_win32 (1)\\chromedriver.exe\")"
   ]
  },
  {
   "cell_type": "code",
   "execution_count": 25,
   "id": "4a035e96",
   "metadata": {},
   "outputs": [],
   "source": [
    "# get url from the web page:\n",
    "url ='https://en.wikipedia.org/wiki/List_of_most-viewed_online_videos_in_the_first_24_hours'\n",
    "driver.get(url)\n"
   ]
  },
  {
   "cell_type": "code",
   "execution_count": 32,
   "id": "3ad59555",
   "metadata": {},
   "outputs": [],
   "source": [
    "# make a empty dataframe:\n",
    "video_rank = []\n",
    "video_name= []\n",
    "video_artist = []\n",
    "upload_date = []\n",
    "video_views = []"
   ]
  },
  {
   "cell_type": "code",
   "execution_count": 33,
   "id": "e5153037",
   "metadata": {},
   "outputs": [],
   "source": [
    "#Scrapping video_rank from the given page\n",
    "rank_tags=driver.find_elements(By.XPATH,\"//th[@class='headerSort']\")\n",
    "for i in rank_tags[1:15]:\n",
    "    rank=i.text\n",
    "    video_rank.append(rank)\n",
    "    \n",
    "#Scrapping video_name from the given page\n",
    "name_tags=driver.find_elements(By.XPATH,\"//th[@class='headerSort']\")\n",
    "for i in name_tags[1:15]:\n",
    "    name=i.text\n",
    "    video_name.append(name)\n",
    "\n",
    "#Scrapping video_artist from the given page\n",
    "artist_tags=driver.find_elements(By.XPATH,\"//th[@class='headerSort']\")\n",
    "for i in artist_tags[1:15]:\n",
    "    artist=i.text\n",
    "    video_artist.append(artist)\n",
    "    \n",
    "#Scrapping upload_date from the given page\n",
    "date_tags=driver.find_elements(By.XPATH,\"//th[@class='headerSort']\")\n",
    "for i in date_tags[1:15]:\n",
    "    date=i.text\n",
    "    upload_date.append(date)\n",
    "    \n",
    "#Scrapping place from the given page\n",
    "views_tags=driver.find_elements(By.XPATH,\"//th[@class='headerSort']\")\n",
    "for i in views_tags[1:15]:\n",
    "    views=i.text\n",
    "    video_views.append(views)    "
   ]
  },
  {
   "cell_type": "code",
   "execution_count": 42,
   "id": "6f5c6bc1",
   "metadata": {},
   "outputs": [
    {
     "data": {
      "text/plain": [
       "14"
      ]
     },
     "execution_count": 42,
     "metadata": {},
     "output_type": "execute_result"
    }
   ],
   "source": [
    "#checking length:\n",
    "len(video_rank) \n",
    "len(video_name)\n",
    "len(video_artist)\n",
    "len(upload_date) \n",
    "len(video_views) "
   ]
  },
  {
   "cell_type": "code",
   "execution_count": 35,
   "id": "4e274f00",
   "metadata": {},
   "outputs": [
    {
     "name": "stdout",
     "output_type": "stream",
     "text": [
      "['Title', 'Uploader / artist', 'Platform', 'Views[a]\\n(millions)', 'Release date', 'Rank', 'Title', 'Artist', 'Platform', 'Views[a]\\n(millions)', 'Release date', 'Title', 'Artist', 'Views[a]\\n(millions)']\n",
      "['Title', 'Uploader / artist', 'Platform', 'Views[a]\\n(millions)', 'Release date', 'Rank', 'Title', 'Artist', 'Platform', 'Views[a]\\n(millions)', 'Release date', 'Title', 'Artist', 'Views[a]\\n(millions)']\n",
      "['Title', 'Uploader / artist', 'Platform', 'Views[a]\\n(millions)', 'Release date', 'Rank', 'Title', 'Artist', 'Platform', 'Views[a]\\n(millions)', 'Release date', 'Title', 'Artist', 'Views[a]\\n(millions)']\n",
      "['Title', 'Uploader / artist', 'Platform', 'Views[a]\\n(millions)', 'Release date', 'Rank', 'Title', 'Artist', 'Platform', 'Views[a]\\n(millions)', 'Release date', 'Title', 'Artist', 'Views[a]\\n(millions)']\n",
      "Views[a]\n",
      "(millions)\n"
     ]
    }
   ],
   "source": [
    "#checking details:\n",
    "print(video_rank) \n",
    "print(video_name)\n",
    "print(video_artist)\n",
    "print(upload_date) \n",
    "print(views) "
   ]
  },
  {
   "cell_type": "code",
   "execution_count": 43,
   "id": "0746cddd",
   "metadata": {},
   "outputs": [
    {
     "data": {
      "text/html": [
       "<div>\n",
       "<style scoped>\n",
       "    .dataframe tbody tr th:only-of-type {\n",
       "        vertical-align: middle;\n",
       "    }\n",
       "\n",
       "    .dataframe tbody tr th {\n",
       "        vertical-align: top;\n",
       "    }\n",
       "\n",
       "    .dataframe thead th {\n",
       "        text-align: right;\n",
       "    }\n",
       "</style>\n",
       "<table border=\"1\" class=\"dataframe\">\n",
       "  <thead>\n",
       "    <tr style=\"text-align: right;\">\n",
       "      <th></th>\n",
       "      <th>Video_rank</th>\n",
       "      <th>Video_name</th>\n",
       "      <th>Video_artist</th>\n",
       "      <th>upload_date</th>\n",
       "      <th>Video_views</th>\n",
       "    </tr>\n",
       "  </thead>\n",
       "  <tbody>\n",
       "    <tr>\n",
       "      <th>0</th>\n",
       "      <td>Title</td>\n",
       "      <td>Title</td>\n",
       "      <td>Title</td>\n",
       "      <td>Title</td>\n",
       "      <td>Title</td>\n",
       "    </tr>\n",
       "    <tr>\n",
       "      <th>1</th>\n",
       "      <td>Uploader / artist</td>\n",
       "      <td>Uploader / artist</td>\n",
       "      <td>Uploader / artist</td>\n",
       "      <td>Uploader / artist</td>\n",
       "      <td>Uploader / artist</td>\n",
       "    </tr>\n",
       "    <tr>\n",
       "      <th>2</th>\n",
       "      <td>Platform</td>\n",
       "      <td>Platform</td>\n",
       "      <td>Platform</td>\n",
       "      <td>Platform</td>\n",
       "      <td>Platform</td>\n",
       "    </tr>\n",
       "    <tr>\n",
       "      <th>3</th>\n",
       "      <td>Views[a]\\n(millions)</td>\n",
       "      <td>Views[a]\\n(millions)</td>\n",
       "      <td>Views[a]\\n(millions)</td>\n",
       "      <td>Views[a]\\n(millions)</td>\n",
       "      <td>Views[a]\\n(millions)</td>\n",
       "    </tr>\n",
       "    <tr>\n",
       "      <th>4</th>\n",
       "      <td>Release date</td>\n",
       "      <td>Release date</td>\n",
       "      <td>Release date</td>\n",
       "      <td>Release date</td>\n",
       "      <td>Release date</td>\n",
       "    </tr>\n",
       "    <tr>\n",
       "      <th>5</th>\n",
       "      <td>Rank</td>\n",
       "      <td>Rank</td>\n",
       "      <td>Rank</td>\n",
       "      <td>Rank</td>\n",
       "      <td>Rank</td>\n",
       "    </tr>\n",
       "    <tr>\n",
       "      <th>6</th>\n",
       "      <td>Title</td>\n",
       "      <td>Title</td>\n",
       "      <td>Title</td>\n",
       "      <td>Title</td>\n",
       "      <td>Title</td>\n",
       "    </tr>\n",
       "    <tr>\n",
       "      <th>7</th>\n",
       "      <td>Artist</td>\n",
       "      <td>Artist</td>\n",
       "      <td>Artist</td>\n",
       "      <td>Artist</td>\n",
       "      <td>Artist</td>\n",
       "    </tr>\n",
       "    <tr>\n",
       "      <th>8</th>\n",
       "      <td>Platform</td>\n",
       "      <td>Platform</td>\n",
       "      <td>Platform</td>\n",
       "      <td>Platform</td>\n",
       "      <td>Platform</td>\n",
       "    </tr>\n",
       "    <tr>\n",
       "      <th>9</th>\n",
       "      <td>Views[a]\\n(millions)</td>\n",
       "      <td>Views[a]\\n(millions)</td>\n",
       "      <td>Views[a]\\n(millions)</td>\n",
       "      <td>Views[a]\\n(millions)</td>\n",
       "      <td>Views[a]\\n(millions)</td>\n",
       "    </tr>\n",
       "    <tr>\n",
       "      <th>10</th>\n",
       "      <td>Release date</td>\n",
       "      <td>Release date</td>\n",
       "      <td>Release date</td>\n",
       "      <td>Release date</td>\n",
       "      <td>Release date</td>\n",
       "    </tr>\n",
       "    <tr>\n",
       "      <th>11</th>\n",
       "      <td>Title</td>\n",
       "      <td>Title</td>\n",
       "      <td>Title</td>\n",
       "      <td>Title</td>\n",
       "      <td>Title</td>\n",
       "    </tr>\n",
       "    <tr>\n",
       "      <th>12</th>\n",
       "      <td>Artist</td>\n",
       "      <td>Artist</td>\n",
       "      <td>Artist</td>\n",
       "      <td>Artist</td>\n",
       "      <td>Artist</td>\n",
       "    </tr>\n",
       "    <tr>\n",
       "      <th>13</th>\n",
       "      <td>Views[a]\\n(millions)</td>\n",
       "      <td>Views[a]\\n(millions)</td>\n",
       "      <td>Views[a]\\n(millions)</td>\n",
       "      <td>Views[a]\\n(millions)</td>\n",
       "      <td>Views[a]\\n(millions)</td>\n",
       "    </tr>\n",
       "  </tbody>\n",
       "</table>\n",
       "</div>"
      ],
      "text/plain": [
       "              Video_rank            Video_name          Video_artist  \\\n",
       "0                  Title                 Title                 Title   \n",
       "1      Uploader / artist     Uploader / artist     Uploader / artist   \n",
       "2               Platform              Platform              Platform   \n",
       "3   Views[a]\\n(millions)  Views[a]\\n(millions)  Views[a]\\n(millions)   \n",
       "4           Release date          Release date          Release date   \n",
       "5                   Rank                  Rank                  Rank   \n",
       "6                  Title                 Title                 Title   \n",
       "7                 Artist                Artist                Artist   \n",
       "8               Platform              Platform              Platform   \n",
       "9   Views[a]\\n(millions)  Views[a]\\n(millions)  Views[a]\\n(millions)   \n",
       "10          Release date          Release date          Release date   \n",
       "11                 Title                 Title                 Title   \n",
       "12                Artist                Artist                Artist   \n",
       "13  Views[a]\\n(millions)  Views[a]\\n(millions)  Views[a]\\n(millions)   \n",
       "\n",
       "             upload_date           Video_views  \n",
       "0                  Title                 Title  \n",
       "1      Uploader / artist     Uploader / artist  \n",
       "2               Platform              Platform  \n",
       "3   Views[a]\\n(millions)  Views[a]\\n(millions)  \n",
       "4           Release date          Release date  \n",
       "5                   Rank                  Rank  \n",
       "6                  Title                 Title  \n",
       "7                 Artist                Artist  \n",
       "8               Platform              Platform  \n",
       "9   Views[a]\\n(millions)  Views[a]\\n(millions)  \n",
       "10          Release date          Release date  \n",
       "11                 Title                 Title  \n",
       "12                Artist                Artist  \n",
       "13  Views[a]\\n(millions)  Views[a]\\n(millions)  "
      ]
     },
     "execution_count": 43,
     "metadata": {},
     "output_type": "execute_result"
    }
   ],
   "source": [
    "#make a dataframe:\n",
    "data=pd.DataFrame()\n",
    "data['Video_rank']=video_rank\n",
    "data['Video_name']=video_name\n",
    "data['Video_artist']=video_artist \n",
    "data['upload_date']=upload_date \n",
    "data['Video_views']=video_views \n",
    "data"
   ]
  },
  {
   "cell_type": "code",
   "execution_count": 44,
   "id": "44457ddd",
   "metadata": {},
   "outputs": [],
   "source": [
    "# save dataframe to csv file:\n",
    "data.to_csv('most viewed video on youtube.csv',index=False)"
   ]
  },
  {
   "cell_type": "markdown",
   "id": "9c131d51",
   "metadata": {},
   "source": [
    "# Q2. team india's international fixtures:"
   ]
  },
  {
   "cell_type": "code",
   "execution_count": 5,
   "id": "2a84ed22",
   "metadata": {},
   "outputs": [],
   "source": [
    "#lets first connect to the driver  # this is method one to connect to the webdriver # this s good.\n",
    "driver=webdriver.Chrome(r\"C:\\Users\\md\\Downloads\\chromedriver_win32 (1)\\chromedriver.exe\")"
   ]
  },
  {
   "cell_type": "code",
   "execution_count": 6,
   "id": "8c9c6133",
   "metadata": {},
   "outputs": [],
   "source": [
    "# get url from the web page:\n",
    "url ='https://www.bcci.tv/international/fixtures'\n",
    "driver.get(url)\n",
    "time.sleep(1)"
   ]
  },
  {
   "cell_type": "code",
   "execution_count": 7,
   "id": "46461b66",
   "metadata": {},
   "outputs": [],
   "source": [
    "# make a empty dataframe:\n",
    "match_title = []\n",
    "match_series= []\n",
    "match_date = []\n",
    "match_place = []\n",
    "match_time = []"
   ]
  },
  {
   "cell_type": "code",
   "execution_count": 8,
   "id": "276f4b4f",
   "metadata": {},
   "outputs": [],
   "source": [
    "#Scrapping match_title from the given page\n",
    "title_tags=driver.find_elements(By.XPATH,\"//span[@class='matchOrderText ng-binding ng-scope']\")\n",
    "for i in title_tags[0:11]:\n",
    "    title=i.text\n",
    "    match_title.append(title)\n",
    "    \n",
    "#Scrapping match_series from the given page\n",
    "series_tags=driver.find_elements(By.XPATH,\"//span[@class='ng-binding']\")\n",
    "for i in series_tags[0:11]:\n",
    "    series=i.text\n",
    "    match_series.append(series)\n",
    "\n",
    "#Scrapping match_date from the given page\n",
    "date_tags=driver.find_elements(By.XPATH,\"//h5[@class='ng-binding']\")\n",
    "for i in date_tags[0:11]:\n",
    "    date=i.text\n",
    "    match_date.append(date)\n",
    "    \n",
    "#Scrapping match_time from the given page\n",
    "time_tags=driver.find_elements(By.XPATH,\"//h5[@class='text-right ng-binding']\")\n",
    "for i in time_tags[0:11]:\n",
    "    time=i.text\n",
    "    match_time.append(time)\n",
    "    \n",
    "#Scrapping match_place from the given page\n",
    "place_tags=driver.find_elements(By.XPATH,\"//div[@class='fix-place ng-binding ng-scope']\")\n",
    "for i in place_tags[0:11]:\n",
    "    place=i.text\n",
    "    match_place.append(place)    "
   ]
  },
  {
   "cell_type": "code",
   "execution_count": 9,
   "id": "c45524f1",
   "metadata": {},
   "outputs": [
    {
     "data": {
      "text/plain": [
       "8"
      ]
     },
     "execution_count": 9,
     "metadata": {},
     "output_type": "execute_result"
    }
   ],
   "source": [
    "#checking length:\n",
    "len(match_title)\n",
    "len(match_series)\n",
    "len(match_date)\n",
    "len(match_place) \n",
    "len(match_time)"
   ]
  },
  {
   "cell_type": "code",
   "execution_count": 10,
   "id": "e674e36c",
   "metadata": {},
   "outputs": [
    {
     "name": "stdout",
     "output_type": "stream",
     "text": [
      "['3rd T20I -', '4th T20I -', '1st T20I -', '5th T20I -', '2nd T20I -', '3rd T20I -', '1st ODI -', '2nd ODI -']\n",
      "['INDIA WOMEN U19 TOUR OF SOUTH AFRICA WOMEN U19', 'INDIA WOMEN U19 TOUR OF SOUTH AFRICA WOMEN U19', 'SRI LANKA TOUR OF INDIA T20 SERIES 2022-23', 'INDIA WOMEN U19 TOUR OF SOUTH AFRICA WOMEN U19', 'SRI LANKA TOUR OF INDIA T20 SERIES 2022-23', 'SRI LANKA TOUR OF INDIA T20 SERIES 2022-23', 'SRI LANKA TOUR OF INDIA ODI SERIES 2022-23', 'SRI LANKA TOUR OF INDIA ODI SERIES 2022-23']\n",
      "['31 DEC 2022', '2 JAN 2023', '3 JAN 2023', '4 JAN 2023', '5 JAN 2023', '7 JAN 2023', '10 JAN 2023', '12 JAN 2023']\n",
      "['3rd T20I - Steyn City School Ground, Pretoria', '4th T20I - Steyn City School Ground, Pretoria', '1st T20I - Wankhede Stadium, Mumbai', '5th T20I - Steyn City School Ground, Pretoria', '2nd T20I - Maharashtra Cricket Association Stadium, Pune', '3rd T20I - Saurashtra Cricket Association Stadium, Rajkot', '1st ODI - Barsapara Cricket Stadium, Guwahati', '2nd ODI - Eden Gardens, Kolkata']\n",
      "['12:00 AM PST', '3:45 AM PST', '5:30 AM PST', '12:00 AM PST', '5:30 AM PST', '5:30 AM PST', '12:00 AM PST', '12:00 AM PST']\n"
     ]
    }
   ],
   "source": [
    "# checking details:\n",
    "print(match_title)\n",
    "print(match_series)\n",
    "print(match_date)\n",
    "print(match_place)\n",
    "print(match_time)"
   ]
  },
  {
   "cell_type": "code",
   "execution_count": 11,
   "id": "f63076a7",
   "metadata": {},
   "outputs": [
    {
     "data": {
      "text/html": [
       "<div>\n",
       "<style scoped>\n",
       "    .dataframe tbody tr th:only-of-type {\n",
       "        vertical-align: middle;\n",
       "    }\n",
       "\n",
       "    .dataframe tbody tr th {\n",
       "        vertical-align: top;\n",
       "    }\n",
       "\n",
       "    .dataframe thead th {\n",
       "        text-align: right;\n",
       "    }\n",
       "</style>\n",
       "<table border=\"1\" class=\"dataframe\">\n",
       "  <thead>\n",
       "    <tr style=\"text-align: right;\">\n",
       "      <th></th>\n",
       "      <th>Match_title</th>\n",
       "      <th>Match_series</th>\n",
       "      <th>Match_date</th>\n",
       "      <th>Match_place</th>\n",
       "      <th>Matc h_time</th>\n",
       "    </tr>\n",
       "  </thead>\n",
       "  <tbody>\n",
       "    <tr>\n",
       "      <th>0</th>\n",
       "      <td>3rd T20I -</td>\n",
       "      <td>INDIA WOMEN U19 TOUR OF SOUTH AFRICA WOMEN U19</td>\n",
       "      <td>31 DEC 2022</td>\n",
       "      <td>3rd T20I - Steyn City School Ground, Pretoria</td>\n",
       "      <td>12:00 AM PST</td>\n",
       "    </tr>\n",
       "    <tr>\n",
       "      <th>1</th>\n",
       "      <td>4th T20I -</td>\n",
       "      <td>INDIA WOMEN U19 TOUR OF SOUTH AFRICA WOMEN U19</td>\n",
       "      <td>2 JAN 2023</td>\n",
       "      <td>4th T20I - Steyn City School Ground, Pretoria</td>\n",
       "      <td>3:45 AM PST</td>\n",
       "    </tr>\n",
       "    <tr>\n",
       "      <th>2</th>\n",
       "      <td>1st T20I -</td>\n",
       "      <td>SRI LANKA TOUR OF INDIA T20 SERIES 2022-23</td>\n",
       "      <td>3 JAN 2023</td>\n",
       "      <td>1st T20I - Wankhede Stadium, Mumbai</td>\n",
       "      <td>5:30 AM PST</td>\n",
       "    </tr>\n",
       "    <tr>\n",
       "      <th>3</th>\n",
       "      <td>5th T20I -</td>\n",
       "      <td>INDIA WOMEN U19 TOUR OF SOUTH AFRICA WOMEN U19</td>\n",
       "      <td>4 JAN 2023</td>\n",
       "      <td>5th T20I - Steyn City School Ground, Pretoria</td>\n",
       "      <td>12:00 AM PST</td>\n",
       "    </tr>\n",
       "    <tr>\n",
       "      <th>4</th>\n",
       "      <td>2nd T20I -</td>\n",
       "      <td>SRI LANKA TOUR OF INDIA T20 SERIES 2022-23</td>\n",
       "      <td>5 JAN 2023</td>\n",
       "      <td>2nd T20I - Maharashtra Cricket Association Sta...</td>\n",
       "      <td>5:30 AM PST</td>\n",
       "    </tr>\n",
       "    <tr>\n",
       "      <th>5</th>\n",
       "      <td>3rd T20I -</td>\n",
       "      <td>SRI LANKA TOUR OF INDIA T20 SERIES 2022-23</td>\n",
       "      <td>7 JAN 2023</td>\n",
       "      <td>3rd T20I - Saurashtra Cricket Association Stad...</td>\n",
       "      <td>5:30 AM PST</td>\n",
       "    </tr>\n",
       "    <tr>\n",
       "      <th>6</th>\n",
       "      <td>1st ODI -</td>\n",
       "      <td>SRI LANKA TOUR OF INDIA ODI SERIES 2022-23</td>\n",
       "      <td>10 JAN 2023</td>\n",
       "      <td>1st ODI - Barsapara Cricket Stadium, Guwahati</td>\n",
       "      <td>12:00 AM PST</td>\n",
       "    </tr>\n",
       "    <tr>\n",
       "      <th>7</th>\n",
       "      <td>2nd ODI -</td>\n",
       "      <td>SRI LANKA TOUR OF INDIA ODI SERIES 2022-23</td>\n",
       "      <td>12 JAN 2023</td>\n",
       "      <td>2nd ODI - Eden Gardens, Kolkata</td>\n",
       "      <td>12:00 AM PST</td>\n",
       "    </tr>\n",
       "  </tbody>\n",
       "</table>\n",
       "</div>"
      ],
      "text/plain": [
       "  Match_title                                    Match_series   Match_date  \\\n",
       "0  3rd T20I -  INDIA WOMEN U19 TOUR OF SOUTH AFRICA WOMEN U19  31 DEC 2022   \n",
       "1  4th T20I -  INDIA WOMEN U19 TOUR OF SOUTH AFRICA WOMEN U19   2 JAN 2023   \n",
       "2  1st T20I -      SRI LANKA TOUR OF INDIA T20 SERIES 2022-23   3 JAN 2023   \n",
       "3  5th T20I -  INDIA WOMEN U19 TOUR OF SOUTH AFRICA WOMEN U19   4 JAN 2023   \n",
       "4  2nd T20I -      SRI LANKA TOUR OF INDIA T20 SERIES 2022-23   5 JAN 2023   \n",
       "5  3rd T20I -      SRI LANKA TOUR OF INDIA T20 SERIES 2022-23   7 JAN 2023   \n",
       "6   1st ODI -      SRI LANKA TOUR OF INDIA ODI SERIES 2022-23  10 JAN 2023   \n",
       "7   2nd ODI -      SRI LANKA TOUR OF INDIA ODI SERIES 2022-23  12 JAN 2023   \n",
       "\n",
       "                                         Match_place   Matc h_time  \n",
       "0      3rd T20I - Steyn City School Ground, Pretoria  12:00 AM PST  \n",
       "1      4th T20I - Steyn City School Ground, Pretoria   3:45 AM PST  \n",
       "2                1st T20I - Wankhede Stadium, Mumbai   5:30 AM PST  \n",
       "3      5th T20I - Steyn City School Ground, Pretoria  12:00 AM PST  \n",
       "4  2nd T20I - Maharashtra Cricket Association Sta...   5:30 AM PST  \n",
       "5  3rd T20I - Saurashtra Cricket Association Stad...   5:30 AM PST  \n",
       "6      1st ODI - Barsapara Cricket Stadium, Guwahati  12:00 AM PST  \n",
       "7                    2nd ODI - Eden Gardens, Kolkata  12:00 AM PST  "
      ]
     },
     "execution_count": 11,
     "metadata": {},
     "output_type": "execute_result"
    }
   ],
   "source": [
    "#make  a dataframe :\n",
    "data=pd.DataFrame()\n",
    "data['Match_title']=match_title \n",
    "data['Match_series']=match_series\n",
    "data['Match_date']=match_date \n",
    "data['Match_place']=match_place \n",
    "data['Matc h_time']=match_time \n",
    "data"
   ]
  },
  {
   "cell_type": "code",
   "execution_count": 14,
   "id": "c1a0bddd",
   "metadata": {},
   "outputs": [],
   "source": [
    " # save data to csv file:\n",
    "data.to_csv('team india- international fixtures.csv',index=False)"
   ]
  },
  {
   "cell_type": "markdown",
   "id": "ae3cfe7e",
   "metadata": {},
   "source": [
    "# Q3. Scraping selenium exceptionh handling details:"
   ]
  },
  {
   "cell_type": "code",
   "execution_count": null,
   "id": "84e39a9e",
   "metadata": {},
   "outputs": [],
   "source": [
    "#lets first connect to the driver  # this is method one to connect to the webdriver # this s good.\n",
    "driver=webdriver.Chrome(r\"C:\\Users\\md\\Downloads\\chromedriver_win32 (1)\\chromedriver.exe\")"
   ]
  },
  {
   "cell_type": "code",
   "execution_count": 191,
   "id": "e42516b1",
   "metadata": {},
   "outputs": [],
   "source": [
    "# get url from the web page:\n",
    "url ='https://www.guru99.com/exception-handling-selenium.html'\n",
    "driver.get(url)\n",
    "time.sleep(1)"
   ]
  },
  {
   "cell_type": "code",
   "execution_count": 193,
   "id": "448447a8",
   "metadata": {},
   "outputs": [],
   "source": [
    "# make a empty dataframe:\n",
    "selenium_name = []\n",
    "description= []"
   ]
  },
  {
   "cell_type": "code",
   "execution_count": 194,
   "id": "91363187",
   "metadata": {},
   "outputs": [],
   "source": [
    "#Scrapping selenium_name from the given page\n",
    "name_tags=driver.find_elements(By.XPATH,\"//h1[@class='entry-title']\")\n",
    "for i in name_tags[0:11]:\n",
    "    name=i.text\n",
    "    selenium_name.append(name)\n",
    "    \n",
    "#Scrapping selenium_description from the given page\n",
    "descrip_tags=driver.find_elements(By.XPATH,\"//div[@class='wrap hfeed kt-clear']\")\n",
    "for i in descrip_tags[0:11]:\n",
    "    descrip=i.text\n",
    "    description.append(descrip)"
   ]
  },
  {
   "cell_type": "code",
   "execution_count": 195,
   "id": "ed24b744",
   "metadata": {},
   "outputs": [
    {
     "data": {
      "text/plain": [
       "1"
      ]
     },
     "execution_count": 195,
     "metadata": {},
     "output_type": "execute_result"
    }
   ],
   "source": [
    "#checking length:\n",
    "len(selenium_name)"
   ]
  },
  {
   "cell_type": "code",
   "execution_count": 196,
   "id": "942b94ce",
   "metadata": {},
   "outputs": [
    {
     "data": {
      "text/plain": [
       "1"
      ]
     },
     "execution_count": 196,
     "metadata": {},
     "output_type": "execute_result"
    }
   ],
   "source": [
    "#checkihng length:\n",
    "len(description)"
   ]
  },
  {
   "cell_type": "code",
   "execution_count": 197,
   "id": "4238814a",
   "metadata": {},
   "outputs": [
    {
     "name": "stdout",
     "output_type": "stream",
     "text": [
      "['Exception Handling in Selenium Webdriver (Types)']\n",
      "['Exception Handling in Selenium Webdriver (Types)\\nBy\\nKrishna Rungta\\nUpdated\\nOctober 29, 2022\\nWhat is an Exceptions?\\nAn exception is an error that happens at the time of execution of a program. However, while running a program, programming languages generates an exception that should be handled to avoid your program to crash.\\nThe exception indicates that, although the event can occur, this type of event happens infrequently. When the method is not able to handle the Exception, it is thrown to its caller function.\\nIn this Selenium tutorial, you will learn:\\nTypes of Exceptions in Selenium Webdriver\\n1. ElementNotVisibleException: This type of Selenium exception occurs when an existing element in DOM has a feature set as hidden.\\n2. ElementNotSelectableException: This Selenium exception occurs when an element is presented in the DOM, but you can be able to select. Therefore, it is not possible to interact.\\n3. NoSuchElementException: This Exception occurs if an element could not be found.\\n4. NoSuchFrameException: This Exception occurs if the frame target to be switched to does not exist.\\n5. NoAlertPresentException: This Exception occurs when you switch to no presented alert.\\n6. NoSuchWindowException: This Exception occurs if the window target to be switch does not exist.\\n7. StaleElementReferenceException: This Selenium exception occurs happens when the web element is detached from the current DOM.\\n8. SessionNotFoundException: The WebDriver is acting after you quit the browser.\\n9. TimeoutException: Thrown when there is not enough time for a command to be completed. For Example, the element searched wasn’t found in the specified time.\\n10. WebDriverException: This Exception takes place when the WebDriver is acting right after you close the browser.\\n11. ConnectionClosedException: This type of Exception takes place when there is a disconnection in the driver.\\n12. ElementClickInterceptedException: The command may not be completed as the element receiving the events is concealing the element which was requested clicked.\\n13. ElementNotInteractableException: This Selenium exception is thrown when any element is presented in the DOM. However, it is impossible to interact with such an element.\\n14. ErrorInResponseException: This happens while interacting with the Firefox extension or the remote driver server.\\n15. ErrorHandler.UnknownServerException: Exception is used as a placeholder in case if the server returns an error without a stack trace.\\n16. ImeActivationFailedException: This expectation will occur when IME engine activation has failed.\\n17. ImeNotAvailableException: It takes place when IME support is unavailable.\\n18. InsecureCertificateException: Navigation made the user agent to hit a certificate warning. This can cause by an invalid or expired TLS certificate.\\n19. InvalidArgumentException: It occurs when an argument does not belong to the expected type.\\n20. InvalidCookieDomainException: This happens when you try to add a cookie under a different domain instead of current URL.\\n21. InvalidCoordinatesException: This type of Exception matches an interacting operation that is not valid.\\n22. InvalidElementStateException: It occurs when command can’t be finished when the element is invalid.\\n23. InvalidSessionIdException: This Exception took place when the given session ID is not included in the list of active sessions. It means the session does not exist or is inactive either.\\n24. InvalidSwitchToTargetException: This occurs when the frame or window target to be switched does not exist.\\n25. JavascriptException: This issue occurs while executing JavaScript given by the user.\\n26. JsonException: It occurs when you afford to get the session when the session is not created.\\n27. NoSuchAttributeException: This kind of Exception occurs when the attribute of an element could not be found.\\n28. MoveTargetOutOfBoundsException: It takes place if the target provided to the ActionChains move() methodology is not valid. For Example, out of the document.\\n29. NoSuchContextException: ContextAware does mobile device testing.\\n30. NoSuchCookieException: This Exception occurs when no cookie matching with the given pathname found for all the associated cookies of the currently browsing document.\\n31. NotFoundException: This Exception is a subclass of WebDriverException. This will occur when an element on the DOM does not exist.\\n32. RemoteDriverServerException: This Selenium exception is thrown when the server is not responding because of the problem that the capabilities described are not proper.\\n33. ScreenshotException: It is not possible to capture a screen.\\n34. SessionNotCreatedException: It happens when a new session could not be successfully created.\\n35. UnableToSetCookieException: This occurs if a driver is unable to set a cookie.\\n36. UnexpectedTagNameException: Happens if a support class did not get a web element as expected.\\n37. UnhandledAlertException: This expectation occurs when there is an alert, but WebDriver is not able to perform Alert operation.\\n38. UnexpectedAlertPresentException: It occurs when there is the appearance of an unexpected alert.\\n39. UnknownMethodException: This Exception happens when the requested command matches with a known URL but and not matching with a methodology for a specific URL.\\n40. UnreachableBrowserException: This Exception occurs only when the browser is not able to be opened or crashed because of some reason.\\n41. UnsupportedCommandException: This occurs when remote WebDriver doesn’t send valid commands as expected.\\nHow to Handling Exceptions in Selenium\\nHere, are some important standard using which you can handle Exceptions in Selenium WebDriver:\\nStep 1) Try-catch\\nThis method can catch Exceptions, which uses a combination of the try and catch keywords. Try command indicates the start of the block, and Catch is placed at the end of the try block, which helps to resolve the Exception.\\ntry\\n{\\n// Code\\n} catch (Exception e) {\\n// Code for Handling exception\\n}\\nStep 2) Multiple catch blocks\\nThere are various types of Exceptions, and you can expect more than one exception from a single block of code. Multiple catches help you to handle every type of Exception separately with a separate block of code. It can be used for more than two catch blocks, and there is no limitation on the number of catch blocks.\\ntry\\n{\\n//Code\\n} catch (ExceptionType1 e1) {\\n//Code for Handling Exception 1\\n} catch (ExceptionType2 e2) {\\n//Code for Handling Exception 2\\n}\\nStep 3) Throw\\nWhen you want to generate an Exception, the Throw keyword is used to throw Exception to handle it in the run time. When you are throwing an Exception without handling it, then they need to use Throw keyword.\\npublic static void anyFunction() throws Exception{\\n\\ntry {\\n// write your code here\\n} Catch (Exception b) {\\n// Do whatever you want to perform \\n// Throw the Exception back to the system\\nthrow(b);\\n}\\n}\\nStep 4) Multiple Exceptions\\nYou can mention various Exceptions in the throws clause.\\npublic static void anyFunction() throws ExceptionType1, ExceptionType2{\\n\\ntry {\\n// write your code here\\n} catch (ExceptionType1 e1) {\\n// Code to handle exception 1\\n} catch (ExceptionType1 e2) {\\n// Code to handle exception 2\\n}\\nStep 5) Finally\\nThe Final keyword is used to create a block of code under the try block. It is the final code that helps you to executes irrespective of the occurrence of an exception\\ntry {\\n//Code\\n} catch (ExceptionType1 e1) {\\n//Catch block\\n} catch (ExceptionType2 e2) {\\n//Catch block\\n} catch (ExceptionType3 e3) {\\n//Catch block\\n} finally {\\n//The finally block always executes.\\n}\\nMethods for displaying Exception\\nYou can also use the following methods to display Exception Information:\\nprintStackTrace(): This function prints stack trace, name of the Exception, and other useful description.\\ntoString(): This function returns a text message describing the exception name and description.\\ngetMessage(): Helps to displays the description of the Exception.\\nSummary:\\nAn exception is an error that happens at the time of execution of a program.\\nTry-catch: This method can catch Exceptions, which uses a combination of the try and catch keywords.\\nMultiple catches help you to handle every type of Exception separately with a separate block of code.\\nThrow keyword is used to throw Exception to handle it in the run time.\\nprintStackTrace(): This function prints stack trace, name of the Exception, and other useful description\\ntoString(): This function returns a text message describing the exception name and description.\\ngetMessage(): Helps to displays the description of the Exception.\\nYou Might Like:\\nHow to Read/Write Data from Excel File: Selenium POI\\nUsing SoapUI with Selenium for Web Service Testing\\nTop 100 Selenium Interview Questions and Answers for 2022\\nHow to Verify Tooltip using Selenium WebDriver\\n19 Selenium Alternatives & Competitors (2022 Update)\\nPost navigation\\nReport a Bug\\nPrev\\nNext']\n"
     ]
    }
   ],
   "source": [
    "# checking details:\n",
    "print(selenium_name)\n",
    "print(description)"
   ]
  },
  {
   "cell_type": "code",
   "execution_count": 199,
   "id": "e8baa71a",
   "metadata": {},
   "outputs": [
    {
     "data": {
      "text/html": [
       "<div>\n",
       "<style scoped>\n",
       "    .dataframe tbody tr th:only-of-type {\n",
       "        vertical-align: middle;\n",
       "    }\n",
       "\n",
       "    .dataframe tbody tr th {\n",
       "        vertical-align: top;\n",
       "    }\n",
       "\n",
       "    .dataframe thead th {\n",
       "        text-align: right;\n",
       "    }\n",
       "</style>\n",
       "<table border=\"1\" class=\"dataframe\">\n",
       "  <thead>\n",
       "    <tr style=\"text-align: right;\">\n",
       "      <th></th>\n",
       "      <th>Selenium_name</th>\n",
       "      <th>Description</th>\n",
       "    </tr>\n",
       "  </thead>\n",
       "  <tbody>\n",
       "    <tr>\n",
       "      <th>0</th>\n",
       "      <td>Exception Handling in Selenium Webdriver (Types)</td>\n",
       "      <td>Exception Handling in Selenium Webdriver (Type...</td>\n",
       "    </tr>\n",
       "  </tbody>\n",
       "</table>\n",
       "</div>"
      ],
      "text/plain": [
       "                                      Selenium_name  \\\n",
       "0  Exception Handling in Selenium Webdriver (Types)   \n",
       "\n",
       "                                         Description  \n",
       "0  Exception Handling in Selenium Webdriver (Type...  "
      ]
     },
     "execution_count": 199,
     "metadata": {},
     "output_type": "execute_result"
    }
   ],
   "source": [
    "# make a dataframe:\n",
    "data=pd.DataFrame()\n",
    "data['Selenium_name']=selenium_name\n",
    "data['Description']=description\n",
    "data"
   ]
  },
  {
   "cell_type": "code",
   "execution_count": 200,
   "id": "900ccece",
   "metadata": {},
   "outputs": [],
   "source": [
    "#save data to csv as a file\n",
    "data.to_csv('SELENIUM EXCEPTION HANDLING details.csv', index=False )"
   ]
  },
  {
   "cell_type": "markdown",
   "id": "6b5e59f3",
   "metadata": {},
   "source": [
    "# Q4. Scraping GDP of india statewise:"
   ]
  },
  {
   "cell_type": "code",
   "execution_count": 23,
   "id": "2b0878b0",
   "metadata": {},
   "outputs": [],
   "source": [
    "#lets first connect to the driver  # this is method one to connect to the webdriver # this s good.\n",
    "driver=webdriver.Chrome(r\"C:\\Users\\md\\Downloads\\chromedriver_win32 (1)\\chromedriver.exe\")"
   ]
  },
  {
   "cell_type": "code",
   "execution_count": 24,
   "id": "35a1ceb8",
   "metadata": {},
   "outputs": [],
   "source": [
    "# get url from the web page:\n",
    "url ='https://statisticstimes.com/economy/india/indian-states-gdp.php'\n",
    "driver.get(url)"
   ]
  },
  {
   "cell_type": "code",
   "execution_count": 25,
   "id": "48111d44",
   "metadata": {},
   "outputs": [],
   "source": [
    "# make a empty dataframe:\n",
    "Rank = []\n",
    "State = []\n",
    "GSDP_a = []\n",
    "GSDP_b = []\n",
    "share = []\n",
    "GDP_billion =[]"
   ]
  },
  {
   "cell_type": "code",
   "execution_count": 8,
   "id": "0bcb6219",
   "metadata": {},
   "outputs": [],
   "source": [
    "#Scrapping rank from the given page\n",
    "rank_tags=driver.find_elements(By.XPATH,\"//td[class='data1']\")\n",
    "for i in rank_tags[0:20]:\n",
    "    rank=i.text\n",
    "    Rank.append(rank)\n",
    "    \n",
    "#Scrapping state from the given page\n",
    "state_tags=driver.find_elements(By.XPATH,\"//td[class='name']\")\n",
    "for i in state_tags[0:20]:\n",
    "    state=i.text\n",
    "    State.append(state)\n",
    "#Scrapping GSDP(18-19) from the given page\n",
    "GSDP_tags=driver.find_elements(By.XPATH,\"//td[class='data']\")\n",
    "for i in GSDP_tags[0:20]:\n",
    "    GSDP=i.text\n",
    "    GSDP_a.append(GSDP)\n",
    "# Scraping GSDP(19-20) from the given page:\n",
    "GSDP_tags=driver.find_elements(By.XPATH,\"//td[class='data']\")\n",
    "for i in GSDP_tags[0:20]:\n",
    "    GSDP=i.text\n",
    "    GSDP_b.append(GSDP)\n",
    "#Scrapping share from the given page\n",
    "share_tags=driver.find_elements(By.XPATH,\"//td[class='data']\")\n",
    "for i in share_tags[0:20]:\n",
    "    share=i.text\n",
    "    share.append(share)\n",
    "#Scrapping GDP from the given page:\n",
    "GDP_tags=driver.find_elements(By.XPATH,\"//td[class='data']\")\n",
    "for i in GDP_tags[0:5]:\n",
    "    GDP=i.text\n",
    "    GDP_billion.append(GDP)"
   ]
  },
  {
   "cell_type": "code",
   "execution_count": 9,
   "id": "e5533533",
   "metadata": {},
   "outputs": [
    {
     "data": {
      "text/plain": [
       "0"
      ]
     },
     "execution_count": 9,
     "metadata": {},
     "output_type": "execute_result"
    }
   ],
   "source": [
    "# Checking length:\n",
    "len(Rank)\n",
    "len(State) \n",
    "len(GSDP_a)\n",
    "len(GSDP_b) \n",
    "len(share) \n",
    "len(GDP_billion) "
   ]
  },
  {
   "cell_type": "code",
   "execution_count": 71,
   "id": "6ea73821",
   "metadata": {},
   "outputs": [
    {
     "name": "stdout",
     "output_type": "stream",
     "text": [
      "[]\n",
      "[]\n",
      "[]\n",
      "[]\n",
      "[]\n",
      "[]\n"
     ]
    }
   ],
   "source": [
    "# checking details:\n",
    "print(Rank)\n",
    "print(State) \n",
    "print(GSDP_a)\n",
    "print(GSDP_b) \n",
    "print(share) \n",
    "print(GDP_billion) "
   ]
  },
  {
   "cell_type": "code",
   "execution_count": null,
   "id": "ee81938f",
   "metadata": {},
   "outputs": [],
   "source": []
  },
  {
   "cell_type": "code",
   "execution_count": null,
   "id": "1f7903ef",
   "metadata": {},
   "outputs": [],
   "source": []
  },
  {
   "cell_type": "markdown",
   "id": "1d3ae12a",
   "metadata": {},
   "source": [
    "# Q5.scrap the details of trending repositories:"
   ]
  },
  {
   "cell_type": "code",
   "execution_count": 132,
   "id": "b60d3938",
   "metadata": {},
   "outputs": [],
   "source": [
    "#lets first connect to the driver  # this is method one to connect to the webdriver # this s good.\n",
    "driver=webdriver.Chrome(r\"C:\\Users\\md\\Downloads\\chromedriver_win32 (1)\\chromedriver.exe\")"
   ]
  },
  {
   "cell_type": "code",
   "execution_count": 138,
   "id": "53104dfa",
   "metadata": {},
   "outputs": [],
   "source": [
    "# get url from the web page:\n",
    "url ='https://github.com/trending?since=daily'\n",
    "driver.get(url)\n",
    "time.sleep(1)"
   ]
  },
  {
   "cell_type": "code",
   "execution_count": 139,
   "id": "041c94d3",
   "metadata": {},
   "outputs": [],
   "source": [
    "# make a empty dataframe:\n",
    "repository_title = []\n",
    "repository_description = []\n",
    "contributors_count = []\n",
    "language_used = []"
   ]
  },
  {
   "cell_type": "code",
   "execution_count": 162,
   "id": "27c96f8e",
   "metadata": {},
   "outputs": [],
   "source": [
    "#Scrapping repository_title from the given page\n",
    "title_tags=driver.find_elements(By.XPATH,'//span[@class=\"text-normal\"]')\n",
    "for i in title_tags[0:11]:\n",
    "    title=i.text\n",
    "    repository_title.append(title)\n",
    "    \n",
    "#Scrapping description from the given page\n",
    "description_tags=driver.find_elements(By.XPATH,\"//p[@class='col-9 color-fg-muted my-1 pr-4']\")\n",
    "for i in description_tags[0:11]:\n",
    "    description=i.text\n",
    "    repository_description.append(description)\n",
    "#Scrapping contibutors from the given page\n",
    "contributors_tags=driver.find_elements(By.XPATH,\"//div[@class='f6 color-fg-muted mt-2']\")\n",
    "for i in contributors_tags[0:11]:\n",
    "    contributors=i.text\n",
    "    contributors_count.append(contributors)\n",
    "#Scrapping language from the given page\n",
    "language_tags=driver.find_elements(By.XPATH,\"//span[@class='d-inline-block mr-3']\")\n",
    "for i in language_tags[0:11]:\n",
    "    language=i.text\n",
    "    language_used.append(language)"
   ]
  },
  {
   "cell_type": "code",
   "execution_count": 146,
   "id": "558eda41",
   "metadata": {},
   "outputs": [
    {
     "data": {
      "text/plain": [
       "5"
      ]
     },
     "execution_count": 146,
     "metadata": {},
     "output_type": "execute_result"
    }
   ],
   "source": [
    "#checking length:\n",
    "len(repository_title) \n",
    "len(repository_description) \n",
    "len(contributors_count) \n",
    "len(language_used) "
   ]
  },
  {
   "cell_type": "code",
   "execution_count": 147,
   "id": "e982f8ad",
   "metadata": {},
   "outputs": [
    {
     "name": "stdout",
     "output_type": "stream",
     "text": [
      "['LAION-AI / Open-Assistant', 'apple / ml-stable-diffusion', 'hehonghui / awesome-english-ebooks', 'AmruthPillai / Reactive-Resume', 'microfeed / microfeed', 'excalidraw / excalidraw', 'TheOfficialFloW / HENlo', 'tesseract-ocr / tesseract', 'zhuowei / WDBFontOverwrite', 'novuhq / novu', 'timqian / chinese-independent-blogs', 'gabiduarte / awesome-techleads', 'microsoft / RoadDetections', 'lencx / ChatGPT', 'facebook / folly', 'mouredev / retos-programacion-2023', 'AmazingAng / WTF-Solidity', 'zas023 / JdBuyer', 'ChatGPT-Hackers / ChatGPT-API-server', 'bregman-arie / devops-resources', 'zinclabs / zinc', 'google / comprehensive-rust', '521xueweihan / HelloGitHub', 'openai-php / laravel', 'malkemit / namizun', 'LAION-AI / Open-Assistant', 'apple / ml-stable-diffusion', 'hehonghui / awesome-english-ebooks', 'AmruthPillai / Reactive-Resume', 'microfeed / microfeed', 'LAION-AI /', 'apple /', 'hehonghui /', 'AmruthPillai /', 'microfeed /']\n",
      "['Stable Diffusion with Core ML on Apple Silicon', '经济学人(含音频)、纽约客、卫报、连线、大西洋月刊等英语杂志免费下载,支持epub、mobi、pdf格式, 每周更新', 'A one-of-a-kind resume builder that keeps your privacy in mind. Completely secure, customizable, portable, open-source and free forever. Try it out today!', 'a lightweight cms self-hosted on cloudflare, for podcasts, blogs, photos, videos, documents, and curated urls.', 'Virtual whiteboard for sketching hand-drawn like diagrams', 'WebKit+Kernel exploit chain for all PS Vita firmwares', 'Tesseract Open Source OCR Engine (main repository)', 'Proof-of-concept app to overwrite fonts on iOS using CVE-2022-46689.', 'The open-source notification infrastructure for products. Add a notification center for your React, Vue and Angular apps 🚀', '中文独立博客列表', 'Uma lista selecionada de conteúdos sobre liderança técnica, com preferência em conteúdos em português', 'Road detections from Microsoft Maps aerial imagery', '🤖 ChatGPT Desktop Application (Mac, Windows and Linux)', 'An open-source C++ library developed and used at Facebook.', 'Ejercicios de código semanales en 2023 de la comunidad MoureDev para practicar lógica en cualquier lenguaje de programación.', '我最近在重新学solidity，巩固一下细节，也写一个“WTF Solidity极简入门”，供小白们使用，每周更新1-3讲。官网: https://wtf.academy', '京东抢购自动下单助手，GUI 支持 Windows 和 macOS', 'API server for ChatGPT', 'DevOps resources - Linux, Jenkins, AWS, SRE, Prometheus, Docker, Python, Ansible, Git, Kubernetes, Terraform, OpenStack, SQL, NoSQL, Azure, GCP', 'ZincSearch. A lightweight alternative to elasticsearch that requires minimal resources, written in Go.', 'This is the Rust course used by the Android team at Google. It provides you the material to quickly teach Rust to everyone.', '分享 GitHub 上有趣、入门级的开源项目。Share interesting, entry-level open source projects on GitHub.', '⚡️ OpenAI PHP for Laravel is a supercharged PHP API client that allows you to interact with OpenAI API', 'Asymmetric upload and download', 'Stable Diffusion with Core ML on Apple Silicon', '经济学人(含音频)、纽约客、卫报、连线、大西洋月刊等英语杂志免费下载,支持epub、mobi、pdf格式, 每周更新', 'A one-of-a-kind resume builder that keeps your privacy in mind. Completely secure, customizable, portable, open-source and free forever. Try it out today!', 'a lightweight cms self-hosted on cloudflare, for podcasts, blogs, photos, videos, documents, and curated urls.', 'Virtual whiteboard for sketching hand-drawn like diagrams', 'Stable Diffusion with Core ML on Apple Silicon', '经济学人(含音频)、纽约客、卫报、连线、大西洋月刊等英语杂志免费下载,支持epub、mobi、pdf格式, 每周更新', 'A one-of-a-kind resume builder that keeps your privacy in mind. Completely secure, customizable, portable, open-source and free forever. Try it out today!', 'a lightweight cms self-hosted on cloudflare, for podcasts, blogs, photos, videos, documents, and curated urls.', 'Virtual whiteboard for sketching hand-drawn like diagrams']\n",
      "['Built by', 'Built by', 'Built by', 'Built by', 'Built by', 'Built by', 'Built by', 'Built by', 'Built by', 'Built by', 'Built by', 'Built by', 'Built by', 'Built by', 'Built by', 'Built by', 'Built by', 'Built by', 'Built by', 'Built by', 'Built by', 'Built by', 'Built by', 'Built by', 'Built by', 'Built by', 'Built by', 'Built by', 'Built by', 'Built by', '', '', '', '', '']\n",
      "['Python', 'Python', 'CSS', 'TypeScript', 'JavaScript']\n"
     ]
    }
   ],
   "source": [
    "# checking details:\n",
    "print(repository_title)\n",
    "print(repository_description)\n",
    "print(contributors_count)\n",
    "print(language_used) "
   ]
  },
  {
   "cell_type": "code",
   "execution_count": 150,
   "id": "56ac729a",
   "metadata": {},
   "outputs": [
    {
     "data": {
      "text/plain": [
       "35"
      ]
     },
     "execution_count": 150,
     "metadata": {},
     "output_type": "execute_result"
    }
   ],
   "source": [
    "#checking length:\n",
    "len(repository_title)"
   ]
  },
  {
   "cell_type": "code",
   "execution_count": 151,
   "id": "733cf331",
   "metadata": {},
   "outputs": [
    {
     "data": {
      "text/plain": [
       "34"
      ]
     },
     "execution_count": 151,
     "metadata": {},
     "output_type": "execute_result"
    }
   ],
   "source": [
    "#checking length:\n",
    "len(repository_description)"
   ]
  },
  {
   "cell_type": "code",
   "execution_count": 153,
   "id": "d32d9d9e",
   "metadata": {},
   "outputs": [
    {
     "data": {
      "text/plain": [
       "35"
      ]
     },
     "execution_count": 153,
     "metadata": {},
     "output_type": "execute_result"
    }
   ],
   "source": [
    "# checking length:\n",
    "len(contributors_count)"
   ]
  },
  {
   "cell_type": "code",
   "execution_count": 154,
   "id": "d7827473",
   "metadata": {},
   "outputs": [
    {
     "data": {
      "text/plain": [
       "5"
      ]
     },
     "execution_count": 154,
     "metadata": {},
     "output_type": "execute_result"
    }
   ],
   "source": [
    "#checking length:\n",
    "len(language_used)"
   ]
  },
  {
   "cell_type": "code",
   "execution_count": 155,
   "id": "b573edf9",
   "metadata": {},
   "outputs": [
    {
     "data": {
      "text/html": [
       "<div>\n",
       "<style scoped>\n",
       "    .dataframe tbody tr th:only-of-type {\n",
       "        vertical-align: middle;\n",
       "    }\n",
       "\n",
       "    .dataframe tbody tr th {\n",
       "        vertical-align: top;\n",
       "    }\n",
       "\n",
       "    .dataframe thead th {\n",
       "        text-align: right;\n",
       "    }\n",
       "</style>\n",
       "<table border=\"1\" class=\"dataframe\">\n",
       "  <thead>\n",
       "    <tr style=\"text-align: right;\">\n",
       "      <th></th>\n",
       "      <th>Repository_title</th>\n",
       "      <th>Contributors_count</th>\n",
       "    </tr>\n",
       "  </thead>\n",
       "  <tbody>\n",
       "    <tr>\n",
       "      <th>0</th>\n",
       "      <td>LAION-AI / Open-Assistant</td>\n",
       "      <td>Built by</td>\n",
       "    </tr>\n",
       "    <tr>\n",
       "      <th>1</th>\n",
       "      <td>apple / ml-stable-diffusion</td>\n",
       "      <td>Built by</td>\n",
       "    </tr>\n",
       "    <tr>\n",
       "      <th>2</th>\n",
       "      <td>hehonghui / awesome-english-ebooks</td>\n",
       "      <td>Built by</td>\n",
       "    </tr>\n",
       "    <tr>\n",
       "      <th>3</th>\n",
       "      <td>AmruthPillai / Reactive-Resume</td>\n",
       "      <td>Built by</td>\n",
       "    </tr>\n",
       "    <tr>\n",
       "      <th>4</th>\n",
       "      <td>microfeed / microfeed</td>\n",
       "      <td>Built by</td>\n",
       "    </tr>\n",
       "    <tr>\n",
       "      <th>5</th>\n",
       "      <td>excalidraw / excalidraw</td>\n",
       "      <td>Built by</td>\n",
       "    </tr>\n",
       "    <tr>\n",
       "      <th>6</th>\n",
       "      <td>TheOfficialFloW / HENlo</td>\n",
       "      <td>Built by</td>\n",
       "    </tr>\n",
       "    <tr>\n",
       "      <th>7</th>\n",
       "      <td>tesseract-ocr / tesseract</td>\n",
       "      <td>Built by</td>\n",
       "    </tr>\n",
       "    <tr>\n",
       "      <th>8</th>\n",
       "      <td>zhuowei / WDBFontOverwrite</td>\n",
       "      <td>Built by</td>\n",
       "    </tr>\n",
       "    <tr>\n",
       "      <th>9</th>\n",
       "      <td>novuhq / novu</td>\n",
       "      <td>Built by</td>\n",
       "    </tr>\n",
       "    <tr>\n",
       "      <th>10</th>\n",
       "      <td>timqian / chinese-independent-blogs</td>\n",
       "      <td>Built by</td>\n",
       "    </tr>\n",
       "    <tr>\n",
       "      <th>11</th>\n",
       "      <td>gabiduarte / awesome-techleads</td>\n",
       "      <td>Built by</td>\n",
       "    </tr>\n",
       "    <tr>\n",
       "      <th>12</th>\n",
       "      <td>microsoft / RoadDetections</td>\n",
       "      <td>Built by</td>\n",
       "    </tr>\n",
       "    <tr>\n",
       "      <th>13</th>\n",
       "      <td>lencx / ChatGPT</td>\n",
       "      <td>Built by</td>\n",
       "    </tr>\n",
       "    <tr>\n",
       "      <th>14</th>\n",
       "      <td>facebook / folly</td>\n",
       "      <td>Built by</td>\n",
       "    </tr>\n",
       "    <tr>\n",
       "      <th>15</th>\n",
       "      <td>mouredev / retos-programacion-2023</td>\n",
       "      <td>Built by</td>\n",
       "    </tr>\n",
       "    <tr>\n",
       "      <th>16</th>\n",
       "      <td>AmazingAng / WTF-Solidity</td>\n",
       "      <td>Built by</td>\n",
       "    </tr>\n",
       "    <tr>\n",
       "      <th>17</th>\n",
       "      <td>zas023 / JdBuyer</td>\n",
       "      <td>Built by</td>\n",
       "    </tr>\n",
       "    <tr>\n",
       "      <th>18</th>\n",
       "      <td>ChatGPT-Hackers / ChatGPT-API-server</td>\n",
       "      <td>Built by</td>\n",
       "    </tr>\n",
       "    <tr>\n",
       "      <th>19</th>\n",
       "      <td>bregman-arie / devops-resources</td>\n",
       "      <td>Built by</td>\n",
       "    </tr>\n",
       "    <tr>\n",
       "      <th>20</th>\n",
       "      <td>zinclabs / zinc</td>\n",
       "      <td>Built by</td>\n",
       "    </tr>\n",
       "    <tr>\n",
       "      <th>21</th>\n",
       "      <td>google / comprehensive-rust</td>\n",
       "      <td>Built by</td>\n",
       "    </tr>\n",
       "    <tr>\n",
       "      <th>22</th>\n",
       "      <td>521xueweihan / HelloGitHub</td>\n",
       "      <td>Built by</td>\n",
       "    </tr>\n",
       "    <tr>\n",
       "      <th>23</th>\n",
       "      <td>openai-php / laravel</td>\n",
       "      <td>Built by</td>\n",
       "    </tr>\n",
       "    <tr>\n",
       "      <th>24</th>\n",
       "      <td>malkemit / namizun</td>\n",
       "      <td>Built by</td>\n",
       "    </tr>\n",
       "    <tr>\n",
       "      <th>25</th>\n",
       "      <td>LAION-AI / Open-Assistant</td>\n",
       "      <td>Built by</td>\n",
       "    </tr>\n",
       "    <tr>\n",
       "      <th>26</th>\n",
       "      <td>apple / ml-stable-diffusion</td>\n",
       "      <td>Built by</td>\n",
       "    </tr>\n",
       "    <tr>\n",
       "      <th>27</th>\n",
       "      <td>hehonghui / awesome-english-ebooks</td>\n",
       "      <td>Built by</td>\n",
       "    </tr>\n",
       "    <tr>\n",
       "      <th>28</th>\n",
       "      <td>AmruthPillai / Reactive-Resume</td>\n",
       "      <td>Built by</td>\n",
       "    </tr>\n",
       "    <tr>\n",
       "      <th>29</th>\n",
       "      <td>microfeed / microfeed</td>\n",
       "      <td>Built by</td>\n",
       "    </tr>\n",
       "    <tr>\n",
       "      <th>30</th>\n",
       "      <td>LAION-AI /</td>\n",
       "      <td></td>\n",
       "    </tr>\n",
       "    <tr>\n",
       "      <th>31</th>\n",
       "      <td>apple /</td>\n",
       "      <td></td>\n",
       "    </tr>\n",
       "    <tr>\n",
       "      <th>32</th>\n",
       "      <td>hehonghui /</td>\n",
       "      <td></td>\n",
       "    </tr>\n",
       "    <tr>\n",
       "      <th>33</th>\n",
       "      <td>AmruthPillai /</td>\n",
       "      <td></td>\n",
       "    </tr>\n",
       "    <tr>\n",
       "      <th>34</th>\n",
       "      <td>microfeed /</td>\n",
       "      <td></td>\n",
       "    </tr>\n",
       "  </tbody>\n",
       "</table>\n",
       "</div>"
      ],
      "text/plain": [
       "                        Repository_title Contributors_count\n",
       "0              LAION-AI / Open-Assistant           Built by\n",
       "1            apple / ml-stable-diffusion           Built by\n",
       "2     hehonghui / awesome-english-ebooks           Built by\n",
       "3         AmruthPillai / Reactive-Resume           Built by\n",
       "4                  microfeed / microfeed           Built by\n",
       "5                excalidraw / excalidraw           Built by\n",
       "6                TheOfficialFloW / HENlo           Built by\n",
       "7              tesseract-ocr / tesseract           Built by\n",
       "8             zhuowei / WDBFontOverwrite           Built by\n",
       "9                          novuhq / novu           Built by\n",
       "10   timqian / chinese-independent-blogs           Built by\n",
       "11        gabiduarte / awesome-techleads           Built by\n",
       "12            microsoft / RoadDetections           Built by\n",
       "13                       lencx / ChatGPT           Built by\n",
       "14                      facebook / folly           Built by\n",
       "15    mouredev / retos-programacion-2023           Built by\n",
       "16             AmazingAng / WTF-Solidity           Built by\n",
       "17                      zas023 / JdBuyer           Built by\n",
       "18  ChatGPT-Hackers / ChatGPT-API-server           Built by\n",
       "19       bregman-arie / devops-resources           Built by\n",
       "20                       zinclabs / zinc           Built by\n",
       "21           google / comprehensive-rust           Built by\n",
       "22            521xueweihan / HelloGitHub           Built by\n",
       "23                  openai-php / laravel           Built by\n",
       "24                    malkemit / namizun           Built by\n",
       "25             LAION-AI / Open-Assistant           Built by\n",
       "26           apple / ml-stable-diffusion           Built by\n",
       "27    hehonghui / awesome-english-ebooks           Built by\n",
       "28        AmruthPillai / Reactive-Resume           Built by\n",
       "29                 microfeed / microfeed           Built by\n",
       "30                            LAION-AI /                   \n",
       "31                               apple /                   \n",
       "32                           hehonghui /                   \n",
       "33                        AmruthPillai /                   \n",
       "34                           microfeed /                   "
      ]
     },
     "execution_count": 155,
     "metadata": {},
     "output_type": "execute_result"
    }
   ],
   "source": [
    "#make a dataframe:\n",
    "data=pd.DataFrame()\n",
    "data['Repository_title']=repository_title\n",
    "data['Contributors_count']=contributors_count \n",
    "data"
   ]
  },
  {
   "cell_type": "code",
   "execution_count": 156,
   "id": "573c16d5",
   "metadata": {},
   "outputs": [],
   "source": [
    "#save data to csv as a file\n",
    "data.to_csv('trending repositories details.csv', index=False )"
   ]
  },
  {
   "cell_type": "markdown",
   "id": "7efab4db",
   "metadata": {},
   "source": [
    "# Q6.Scrap top 100 songs details from billiboard.cpm"
   ]
  },
  {
   "cell_type": "code",
   "execution_count": 50,
   "id": "ea1ffa50",
   "metadata": {},
   "outputs": [],
   "source": [
    "#lets first connect to the driver  # this is method one to connect to the webdriver # this s good.\n",
    "driver=webdriver.Chrome(r\"C:\\Users\\md\\Downloads\\chromedriver_win32 (1)\\chromedriver.exe\")"
   ]
  },
  {
   "cell_type": "code",
   "execution_count": 51,
   "id": "515eb30f",
   "metadata": {},
   "outputs": [],
   "source": [
    "# get url from the web page:\n",
    "url ='https://www.billboard.com/charts/hot-100/'\n",
    "driver.get(url)\n",
    "time.sleep(1)"
   ]
  },
  {
   "cell_type": "code",
   "execution_count": 53,
   "id": "c07a33e4",
   "metadata": {},
   "outputs": [],
   "source": [
    "# make a empty dataframe:\n",
    "song_name=[]\n",
    "artist_name=[]\n",
    "last_week_rank=[]\n",
    "peak_rank= []\n",
    "weeks_on_board= []"
   ]
  },
  {
   "cell_type": "code",
   "execution_count": 54,
   "id": "15e5813e",
   "metadata": {},
   "outputs": [],
   "source": [
    "#Scrapping job title from the given page\n",
    "name_tags=driver.find_elements(By.XPATH,'//h3[@class=\"c-title  a-no-trucate a-font-primary-bold-s u-letter-spacing-0021 u-font-size-23@tablet lrv-u-font-size-16 u-line-height-125 u-line-height-normal@mobile-max a-truncate-ellipsis u-max-width-245 u-max-width-230@tablet-only u-letter-spacing-0028@tablet\"]')\n",
    "for i in name_tags[0:100]:\n",
    "    name=i.text\n",
    "    song_name.append(name)\n",
    "    \n",
    "#Scrapping job location from the given page\n",
    "artist_tags=driver.find_elements(By.XPATH,\"//span[@class='c-label  a-no-trucate a-font-primary-s lrv-u-font-size-14@mobile-max u-line-height-normal@mobile-max u-letter-spacing-0021 lrv-u-display-block a-truncate-ellipsis-2line u-max-width-330 u-max-width-230@tablet-only u-font-size-20@tablet']\")\n",
    "for i in artist_tags[0:100]:\n",
    "    artist=i.text\n",
    "    artist_name.append(artist)\n",
    "    \n",
    "#Scrapping Company name from the given page\n",
    "rank_tags=driver.find_elements(By.XPATH,\"//span[@class='c-label  a-font-primary-bold-l a-font-primary-m@mobile-max u-font-weight-normal@mobile-max lrv-u-padding-tb-050@mobile-max u-font-size-32@tablet']\")\n",
    "for i in rank_tags[0:100]:\n",
    "    rank=i.text\n",
    "    last_week_rank.append(rank)\n",
    "#Scrapping job Experience from the given page\n",
    "peakr_tags=driver.find_elements(By.XPATH,\"//span[@class='c-label  a-font-primary-bold-l a-font-primary-m@mobile-max u-font-weight-normal@mobile-max lrv-u-padding-tb-050@mobile-max u-font-size-32@tablet']\")\n",
    "for i in design_tags[0:100]:\n",
    "    peakr=i.text\n",
    "    peak_rank.append(peakr)\n",
    "#Scrapping weeks_on_board from the giv en page:    \n",
    "weeksboard_tags=driver.find_elements(By.XPATH,\"//span[@class='c-label  a-font-primary-bold-l a-font-primary-m@mobile-max u-font-weight-normal@mobile-max lrv-u-padding-tb-050@mobile-max u-font-size-32@tablet']\")\n",
    "for i in weeksboard_tags[0:100]:\n",
    "    weeksboard=i.text\n",
    "    weeks_on_board.append(weeksboard)  "
   ]
  },
  {
   "cell_type": "code",
   "execution_count": 69,
   "id": "d77863ce",
   "metadata": {},
   "outputs": [
    {
     "data": {
      "text/plain": [
       "6"
      ]
     },
     "execution_count": 69,
     "metadata": {},
     "output_type": "execute_result"
    }
   ],
   "source": [
    "# checking length:\n",
    "len(song_name)\n",
    "len(artist_name)\n",
    "len(last_week_rank)\n",
    "len(peak_rank)\n",
    "len(weeks_on_board)"
   ]
  },
  {
   "cell_type": "code",
   "execution_count": null,
   "id": "da5cb3d1",
   "metadata": {},
   "outputs": [],
   "source": [
    "# checking length seperately:"
   ]
  },
  {
   "cell_type": "code",
   "execution_count": 63,
   "id": "2fd760b1",
   "metadata": {},
   "outputs": [
    {
     "data": {
      "text/plain": [
       "1"
      ]
     },
     "execution_count": 63,
     "metadata": {},
     "output_type": "execute_result"
    }
   ],
   "source": [
    "#checking length:\n",
    "len(song_name)"
   ]
  },
  {
   "cell_type": "code",
   "execution_count": 64,
   "id": "c09b0d3a",
   "metadata": {},
   "outputs": [
    {
     "data": {
      "text/plain": [
       "1"
      ]
     },
     "execution_count": 64,
     "metadata": {},
     "output_type": "execute_result"
    }
   ],
   "source": [
    "#checking length:\n",
    "len(artist_name)"
   ]
  },
  {
   "cell_type": "code",
   "execution_count": 65,
   "id": "28083929",
   "metadata": {},
   "outputs": [
    {
     "data": {
      "text/plain": [
       "6"
      ]
     },
     "execution_count": 65,
     "metadata": {},
     "output_type": "execute_result"
    }
   ],
   "source": [
    "#checking length:\n",
    "len(last_week_rank)"
   ]
  },
  {
   "cell_type": "code",
   "execution_count": 66,
   "id": "a1378858",
   "metadata": {},
   "outputs": [
    {
     "data": {
      "text/plain": [
       "50"
      ]
     },
     "execution_count": 66,
     "metadata": {},
     "output_type": "execute_result"
    }
   ],
   "source": [
    "#checking length:\n",
    "len(peak_rank)"
   ]
  },
  {
   "cell_type": "code",
   "execution_count": 67,
   "id": "cca9c016",
   "metadata": {},
   "outputs": [
    {
     "data": {
      "text/plain": [
       "6"
      ]
     },
     "execution_count": 67,
     "metadata": {},
     "output_type": "execute_result"
    }
   ],
   "source": [
    "#checking length:\n",
    "len(weeks_on_board)"
   ]
  },
  {
   "cell_type": "code",
   "execution_count": 68,
   "id": "46920a7e",
   "metadata": {},
   "outputs": [
    {
     "name": "stdout",
     "output_type": "stream",
     "text": [
      "['All I Want For Christmas Is You']\n",
      "['Mariah Carey']\n",
      "['', '', '', '1', '1', '57']\n",
      "['Classic ASP Developer, Internet Marketing Professional, Data Science SME, Content Writers, SEO Professional, Revenue Professional', '.Net, Java, Data Science, Linux Administration, Sql Server Development, Winforms, Wcf Services, Wpf, Telecom Engineering, Technical Management, Software', 'Data Science, Artificial Intelligence, Machine Learning, Business Analytics, Deep Learning, statistics, Data Analytics, Data Analysis, support vector machine', 'Mean Stack, javascript, angularjs, mongodb, Web Services, rest, express, Node.js, Big Data, iot, Data Science, Cloud Computing, saas, Aws', 'Hadoop, Spark, Digital Strategy, Data Architecture, Command Center, Cdp, Dmp, Kafka, Data Science, Data Analysis, Big Data Analytics, Real Time Analysis, SQL', 'Analytics, Business Intelligence, Business Analytics, Predictive Modeling, Predictive Analytics, Data Science, Data Analysis, Data Analytics, Big Data, Big', 'Data Science', 'Machine Learning, algorithms, Go Getter, Computer Science, spark, Big Data, hdfs, sql, cassandra, hadoop, python, scala, java, Data Science, Front End', 'Technical Training, Software Development, Presentation Skills, B.tech, M.tech, B.e., mca, msc, Computer Science, freshers, jobs in indore, Data Science, itil', 'Software Development, It Sales, Account Management, Data Analysis, Customer Service, Sr, Software Engineering, Mvc, Ajax, Asp.net, Html, C#, Javascript', 'Qa, Ui/ux, Java Developer, Java Architect, C++/qt, Php, Lamp, Api, J2ee, Java, Soa, Esb, Middleware, Bigdata Achitect, Hadoop Architect, Deep', 'Business Intelligence, Data Warehousing, Data Science, Business Analytics, Customer Support, Business Reporting, Bi', 'Office Administration, Hr Administration, telecalling, client relationship management, Client Acquisition, Sales, Reception, HR, Recruitment, Onboarding, Human', 'Social Media, digital media maketing, seo, smm, smo, sem, Content Wirting, social media marketing, social media manager, digital media marketing manager', 'Data Science, Python, Data Analytics', 'Oracle Dba, Data Science, Data Warehousing, ETL, Jupyter, Numpy, Data Transformation, Snowflake, Teradata, Python, Data Manipulation, Relational Databases', 'Big Data, Hadoop, Data Analytics, Data Science', 'React.js, Data Science, Java, Front End, Business Analytics, Backend, Tableau, Python, Qa Testing, Automation Testing', 'Qlikview, Qlik Sense, Microsoft Azure, Power Bi, Data Science, Machine Learning', 'Telecalling, Client Interaction, Marketing, Research, Web Development, Social Media Marketing, Data Entry Operation, Excel, Ms Office, Invoicing', 'Data Science', 'Corporate Sales, Software Development, Software Sales, Marketing, Creative Designing, Corporate Planning, Senior Management, Crm, Client Relationship', 'Data Analytics, Data Science, Machine Learning, Deep Learning, Nlp, Data Mining, Python, R, Database Administration, Text Mining', 'Data Science, Machine Learning, Python, R, Deep Learning, Big Data, Hadoop', 'Big Data, Data Science, Artificial Intelligence, Hadoop, Ui Development, Php, Freelancing, .Net, Software Testing, Sap, Leadership Hiring', 'Java, Net, Angularjs, Hr, Infrastructure, Management, Project Management, Business Analysis, Data Science, Information Technology, Technology', 'Research, Digital Marketing, Analytics, Software Development, Data Science, Consulting', 'Data Science, Artificial Intelligence, Machine Learning, Data Analytics', 'Software Architecture, Vp Engineering, Product Management, analytics, Data Science, Node.js, Principal Engineer, Big Data, python, angularjs, React.js', 'Data Science, Hadoop, Rpas, Devops, Python, Aws, Teaching, Big Data', 'Signal Processing, Machine Learning, Neural Networks, Data Science, Predictive Analytics, Time Series Analysis, Data Visualization, Technical Leadership, Data', 'Web Technologies, Project Management, Software Architecture, Data Science, Object Oriented Programming, Computer Science, Electrical Engineering, Architecture', 'Server Administartion, Verilog, Vhdl, Digital Marketing, Market Research, Property Research, Legal, It And Non It Recruitment, Logistics, Supply Chain, Bfsi', 'Data Analytics, Managed Services, Team Leading, python, Machine Learning, Google Analytics, Dmp, Aws, Campaign Analytics, Digital Campaigns, Audience', 'Ethical Hacking, Security Operations Center, SOC, Managed Services, Data Science, Machine Learning, Artificial Intelligence, Operations Research, Education', 'Data Science, Artificial Intelligence, analytics, Business Intelligence, python, tableau, Power Bi, qlikview, sql, Data Warehousing, Data Visualization', 'Machine Learning, Artificial Intelligence, Data Science, Software Engineering, Software Development, Graduate Engineer Trainee, Fresher, Data Analytics, Java', 'C, C++, Artificial Intelligence, Python, Php, Web Development, Matlab, Data Science, Augmented Reality, C C++', 'Relationship Management, Retail Sales, Private Banking, Mutual Funds, NISM, Equity, Finance, Financial Products, Financial Services, Verbal, Written', 'Data Science, Software Engineering', 'Data Science, Big Data Analytics, Digital Marketing, Content Writing, Ui Development, Database Development, Qa Automation, Python, Project Management', 'Data Science, Recruitment, Salary', 'B.Tech, Tableau, Statistics, R, Analytics, Time Series, Data Science, Business Solutions, SQL, Technical Skills, SSAS, SQL Server, Analysis Services, Qlikview', 'Software Development, Business Intelligence, Big Data Analytics, Database Administration, Data Science, Microsoft Azure, Spark, Cassandra, Object Oriented', 'Data Science, Node.js, Angularjs', 'Data Science, Media Marketing, Resource Planning, Managed Services, Display Advertising, Machine Learning, Python, Etl, Sql', 'Data Analysis, Learning, Data Science, Computer Science, Communication Skills', 'Java, Hadoop, R, Machine Learning, Spark, Flume, Hdfs, Data Mining, Sas, Big, Data Science, Cloudera, Impala, Bigdata', 'Software Development, Core Java, Unit Testing, Customer Experience, Problem Solving, Communication Skills, Mysql, Data Science, Sales Management, Analytics', 'Machine Learning, Data Science, Product Management, New Product, Data Analysis, Computer Vision, Deep Learning, Python, Remote Sensing']\n",
      "['', '', '', '1', '1', '57']\n"
     ]
    }
   ],
   "source": [
    "#checking details:\n",
    "print(song_name)\n",
    "print(artist_name)\n",
    "print(last_week_rank)\n",
    "print(peak_rank)\n",
    "print(weeks_on_board)"
   ]
  },
  {
   "cell_type": "code",
   "execution_count": 70,
   "id": "6528366f",
   "metadata": {},
   "outputs": [],
   "source": [
    "#save data to csv as a file\n",
    "data.to_csv('top 100 songs billboard1.com details.csv', index=False )"
   ]
  },
  {
   "cell_type": "markdown",
   "id": "ce6685b9",
   "metadata": {},
   "source": [
    "# Q7.Scrap  details of datascience jobs :   (a)                                          "
   ]
  },
  {
   "cell_type": "code",
   "execution_count": 3,
   "id": "8dfda1b1",
   "metadata": {},
   "outputs": [],
   "source": [
    "#lets first connect to the driver  # this is method one to connect to the webdriver # this s good.\n",
    "driver=webdriver.Chrome(r\"C:\\Users\\md\\Downloads\\chromedriver_win32 (1)\\chromedriver.exe\")"
   ]
  },
  {
   "cell_type": "code",
   "execution_count": 4,
   "id": "e4bbc469",
   "metadata": {},
   "outputs": [],
   "source": [
    "# this is 2nd method to connect with web driver \n",
    "driver=webdriver.Chrome(r\"chromedriver.exe\")   "
   ]
  },
  {
   "cell_type": "code",
   "execution_count": 5,
   "id": "027e1318",
   "metadata": {},
   "outputs": [],
   "source": [
    "#opening the naukri page on outmated chrome browser\n",
    "driver.get(\"https://www.naukri.com/\")"
   ]
  },
  {
   "cell_type": "code",
   "execution_count": 8,
   "id": "0a7fa498",
   "metadata": {},
   "outputs": [],
   "source": [
    "#entering designation required in the question\n",
    "designation=driver.find_element(By.CLASS_NAME,\"suggestor-input \")\n",
    "designation.send_keys(\"Data science\")"
   ]
  },
  {
   "cell_type": "code",
   "execution_count": 17,
   "id": "73690566",
   "metadata": {},
   "outputs": [],
   "source": [
    "# entering location required in the question:\n",
    "location=driver.find_element(By.XPATH,\"/html/body/div[1]/div[6]/div/div/div[5]/div/div/div/input\") \n",
    "location.send_keys(\"Gurgoan\") "
   ]
  },
  {
   "cell_type": "code",
   "execution_count": 47,
   "id": "9328777b",
   "metadata": {},
   "outputs": [],
   "source": [
    "# get url from the web page:\n",
    "url ='https://www.naukri.com/data-science-jobs-in-gurgoan-2?k=data%20science&l=gurgoan&nignbevent_src=jobsearchDeskGNB'\n",
    "driver.get(url)\n",
    "time.sleep(1)"
   ]
  },
  {
   "cell_type": "code",
   "execution_count": 48,
   "id": "ba44d196",
   "metadata": {},
   "outputs": [],
   "source": [
    "# make a empty dataframe:\n",
    "job_title=[]\n",
    "job_location=[]\n",
    "company_name=[]\n",
    "designation = []\n",
    "hire_skill = []"
   ]
  },
  {
   "cell_type": "code",
   "execution_count": 78,
   "id": "fb0b4814",
   "metadata": {},
   "outputs": [],
   "source": [
    "#Scrapping job title from the given page\n",
    "title_tags=driver.find_elements(By.XPATH,'//a[@class=\"title fw500 ellipsis\"]')\n",
    "for i in title_tags[0:11]:\n",
    "    title=i.text\n",
    "    job_title.append(title)\n",
    "    \n",
    "#Scrapping job location from the given page\n",
    "location_tags=driver.find_elements(By.XPATH,\"//li[@class='fleft grey-text br2 placeHolderLi location']\")\n",
    "for i in location_tags[0:11]:\n",
    "    location=i.text\n",
    "    job_location.append(location)\n",
    "#Scrapping Company name from the given page\n",
    "company_tags=driver.find_elements(By.XPATH,\"//a[@class='subTitle ellipsis fleft']\")\n",
    "for i in company_tags[0:11]:\n",
    "    company=i.text\n",
    "    company_name.append(company)\n",
    "#Scrapping job Experience from the given page\n",
    "design_tags=driver.find_elements(By.XPATH,\"//a[@class='title fw500 ellipsis']\")\n",
    "for i in design_tags[0:11]:\n",
    "    design=i.text\n",
    "    designation.append(design)\n",
    "skill_tags=driver.find_elements(By.XPATH,\"//div[@class='job-description fs12 grey-text']\")\n",
    "for i in skill_tags[0:11]:\n",
    "    skill=i.text\n",
    "    hire_skill.append(skill)   "
   ]
  },
  {
   "cell_type": "code",
   "execution_count": 79,
   "id": "fa89b707",
   "metadata": {},
   "outputs": [
    {
     "name": "stdout",
     "output_type": "stream",
     "text": [
      "88 88 33 77 22\n"
     ]
    }
   ],
   "source": [
    "# checking the length\n",
    "print(len(job_title),len(job_location),len(company_name),len(designation),len(hire_skill))"
   ]
  },
  {
   "cell_type": "code",
   "execution_count": 80,
   "id": "d4f47a02",
   "metadata": {},
   "outputs": [
    {
     "name": "stdout",
     "output_type": "stream",
     "text": [
      "[[...], [...], [...], [...], [...], [...], [...], [...], [...], [...], [...], [...], [...], [...], [...], [...], [...], [...], [...], [...], [...], [...], [...], [...], [...], [...], [...], [...], [...], [...], [...], [...], [...], [...], [...], [...], [...], [...], [...], [...], [...], [...], [...], [...], [...], [...], [...], [...], [...], [...], [...], [...], [...], [...], [...], [...], [...], [...], [...], [...], [...], [...], [...], [...], [...], [...], [...], [...], [...], [...], [...], [...], [...], [...], [...], [...], [...], [...], [...], [...], [...], [...], [...], [...], [...], [...], [...], [...]]\n",
      "[[...], [...], [...], [...], [...], [...], [...], [...], [...], [...], [...], [...], [...], [...], [...], [...], [...], [...], [...], [...], [...], [...], [...], [...], [...], [...], [...], [...], [...], [...], [...], [...], [...], [...], [...], [...], [...], [...], [...], [...], [...], [...], [...], [...], [...], [...], [...], [...], [...], [...], [...], [...], [...], [...], [...], [...], [...], [...], [...], [...], [...], [...], [...], [...], [...], [...], [...], [...], [...], [...], [...], [...], [...], [...], [...], [...], [...], [...], [...], [...], [...], [...], [...], [...], [...], [...], [...], [...]]\n",
      "[[...], [...], [...], [...], [...], [...], [...], [...], [...], [...], [...], [...], [...], [...], [...], [...], [...], [...], [...], [...], [...], [...], [...], [...], [...], [...], [...], [...], [...], [...], [...], [...], [...]]\n",
      "['Senior Analyst Data Science', 'Analyst / Senior Analyst Data Science & Strategy', 'Senior Analyst & AI Lead - Data Science', 'Senior Analyst & AI Lead - Data Science', 'Senior Analyst & AI Lead - Data Science', 'ACN - Applied Intelligence - CC - Data Science (IN) - 09', 'ACN - Applied Intelligence - CC - Data Science (IN) - 07', 'Lead Data Science Engineer - Python/Machine Learning', 'Manager / Senior Manager - Data Science & Strategy', 'Lead Data Science Engineer - Python / Neural Networks', 'Lead Data Science Engineer - NLP/Algorithm', 'Senior Analyst Data Science', 'Analyst / Senior Analyst Data Science & Strategy', 'Senior Analyst & AI Lead - Data Science', 'Senior Analyst & AI Lead - Data Science', 'Senior Analyst & AI Lead - Data Science', 'ACN - Applied Intelligence - CC - Data Science (IN) - 09', 'ACN - Applied Intelligence - CC - Data Science (IN) - 07', 'Lead Data Science Engineer - Python/Machine Learning', 'Manager / Senior Manager - Data Science & Strategy', 'Lead Data Science Engineer - Python / Neural Networks', 'Lead Data Science Engineer - NLP/Algorithm', 'Senior Analyst Data Science', 'Analyst / Senior Analyst Data Science & Strategy', 'Senior Analyst & AI Lead - Data Science', 'Senior Analyst & AI Lead - Data Science', 'Senior Analyst & AI Lead - Data Science', 'ACN - Applied Intelligence - CC - Data Science (IN) - 09', 'ACN - Applied Intelligence - CC - Data Science (IN) - 07', 'Lead Data Science Engineer - Python/Machine Learning', 'Manager / Senior Manager - Data Science & Strategy', 'Lead Data Science Engineer - Python / Neural Networks', 'Lead Data Science Engineer - NLP/Algorithm', 'Senior Analyst Data Science', 'Analyst / Senior Analyst Data Science & Strategy', 'Senior Analyst & AI Lead - Data Science', 'Senior Analyst & AI Lead - Data Science', 'Senior Analyst & AI Lead - Data Science', 'ACN - Applied Intelligence - CC - Data Science (IN) - 09', 'ACN - Applied Intelligence - CC - Data Science (IN) - 07', 'Lead Data Science Engineer - Python/Machine Learning', 'Manager / Senior Manager - Data Science & Strategy', 'Lead Data Science Engineer - Python / Neural Networks', 'Lead Data Science Engineer - NLP/Algorithm', 'Senior Analyst Data Science', 'Analyst / Senior Analyst Data Science & Strategy', 'Senior Analyst & AI Lead - Data Science', 'Senior Analyst & AI Lead - Data Science', 'Senior Analyst & AI Lead - Data Science', 'ACN - Applied Intelligence - CC - Data Science (IN) - 09', 'ACN - Applied Intelligence - CC - Data Science (IN) - 07', 'Lead Data Science Engineer - Python/Machine Learning', 'Manager / Senior Manager - Data Science & Strategy', 'Lead Data Science Engineer - Python / Neural Networks', 'Lead Data Science Engineer - NLP/Algorithm', 'Senior Analyst Data Science', 'Analyst / Senior Analyst Data Science & Strategy', 'Senior Analyst & AI Lead - Data Science', 'Senior Analyst & AI Lead - Data Science', 'Senior Analyst & AI Lead - Data Science', 'ACN - Applied Intelligence - CC - Data Science (IN) - 09', 'ACN - Applied Intelligence - CC - Data Science (IN) - 07', 'Lead Data Science Engineer - Python/Machine Learning', 'Manager / Senior Manager - Data Science & Strategy', 'Lead Data Science Engineer - Python / Neural Networks', 'Lead Data Science Engineer - NLP/Algorithm', 'Senior Analyst Data Science', 'Analyst / Senior Analyst Data Science & Strategy', 'Senior Analyst & AI Lead - Data Science', 'Senior Analyst & AI Lead - Data Science', 'Senior Analyst & AI Lead - Data Science', 'ACN - Applied Intelligence - CC - Data Science (IN) - 09', 'ACN - Applied Intelligence - CC - Data Science (IN) - 07', 'Lead Data Science Engineer - Python/Machine Learning', 'Manager / Senior Manager - Data Science & Strategy', 'Lead Data Science Engineer - Python / Neural Networks', 'Lead Data Science Engineer - NLP/Algorithm']\n",
      "[[...], [...], [...], [...], [...], [...], [...], [...], [...], [...], [...], [...], [...], [...], [...], [...], [...], [...], [...], [...], [...], [...]]\n"
     ]
    }
   ],
   "source": [
    "#checking details:\n",
    "print(job_title)\n",
    "print(job_location)\n",
    "print(company_name)\n",
    "print(designation)\n",
    "print(hire_skill) "
   ]
  },
  {
   "cell_type": "code",
   "execution_count": 110,
   "id": "9550d564",
   "metadata": {},
   "outputs": [],
   "source": [
    "#save data to csv as a file\n",
    "data.to_csv('Datascience details.csv', index=False )"
   ]
  },
  {
   "cell_type": "markdown",
   "id": "d5fa8a0d",
   "metadata": {},
   "source": [
    "# Q7.  Data Science -recruiter's details (b)"
   ]
  },
  {
   "cell_type": "code",
   "execution_count": 23,
   "id": "80a4578e",
   "metadata": {},
   "outputs": [],
   "source": [
    "#lets first connect to the driver  # this is method one to connect to the webdriver # this s good.\n",
    "driver=webdriver.Chrome(r\"C:\\Users\\md\\Downloads\\chromedriver_win32 (1)\\chromedriver.exe\")"
   ]
  },
  {
   "cell_type": "code",
   "execution_count": 24,
   "id": "9899630b",
   "metadata": {},
   "outputs": [],
   "source": [
    "#opening the naukri page on outmated chrome browser\n",
    "driver.get(\"https://www.naukri.com/data-science-recruiters\")"
   ]
  },
  {
   "cell_type": "code",
   "execution_count": 25,
   "id": "b783de98",
   "metadata": {},
   "outputs": [],
   "source": [
    "#entering designation required in the question\n",
    "designation=driver.find_element(By.CLASS_NAME,\"sugInp\")\n",
    "designation.send_keys(\"Data science\")"
   ]
  },
  {
   "cell_type": "code",
   "execution_count": 27,
   "id": "7be40b06",
   "metadata": {},
   "outputs": [],
   "source": [
    "# entering location required in the question:\n",
    "location=driver.find_element(By.XPATH,\"/html/body/div[2]/div[2]/div[2]/div/form/div[1]/div/div[2]/div[1]/div[2]/input\") \n",
    "location.send_keys(\"Gurgoan\") "
   ]
  },
  {
   "cell_type": "code",
   "execution_count": 41,
   "id": "fb06c3b7",
   "metadata": {},
   "outputs": [],
   "source": [
    "# make a empty dataframe:\n",
    "job_Title=[]\n",
    "job_Location=[]\n",
    "company_Name=[]\n",
    "Designation = []\n",
    "hire_Skill = []"
   ]
  },
  {
   "cell_type": "code",
   "execution_count": 42,
   "id": "0d1d7243",
   "metadata": {},
   "outputs": [],
   "source": [
    "#Scrapping job title from the given page\n",
    "Title_tags=driver.find_elements(By.XPATH,'//span[@class=\"ellipsis clr\"]')\n",
    "for i in Title_tags[1:15]:\n",
    "    Title=i.text\n",
    "    job_Title.append(Title)\n",
    "    \n",
    "#Scrapping job location from the given page\n",
    "Location_tags=driver.find_elements(By.XPATH,\"//small[@class='ellipsis']\")\n",
    "for i in Location_tags[1:15]:\n",
    "    Location=i.text\n",
    "    job_Location.append(Location)\n",
    "#Scrapping Company name from the given page\n",
    "company_tags=driver.find_elements(By.XPATH,\"//a[@class='ellipsis']\")\n",
    "for i in company_tags[1:15]:\n",
    "    company=i.text\n",
    "    company_Name.append(company)\n",
    "#Scrapping job Experience from the given page\n",
    "Design_tags=driver.find_elements(By.XPATH,\"//div[@class='hireSec highlightable']\")\n",
    "for i in Design_tags[1:15]:\n",
    "    Design=i.text\n",
    "    Designation.append(Design)\n",
    "Skill_tags=driver.find_elements(By.XPATH,\"//p[@class='sklHd']\")\n",
    "for i in Skill_tags[1:15]:\n",
    "    Skill=i.text\n",
    "    hire_Skill.append(Skill)   "
   ]
  },
  {
   "cell_type": "code",
   "execution_count": 43,
   "id": "722779f2",
   "metadata": {},
   "outputs": [
    {
     "name": "stdout",
     "output_type": "stream",
     "text": [
      "14 14 14 14 14\n"
     ]
    }
   ],
   "source": [
    "# checking the length\n",
    "print(len(job_Title),len(job_Location),len(company_Name),len(Designation),len(hire_Skill))"
   ]
  },
  {
   "cell_type": "code",
   "execution_count": 47,
   "id": "3c30f850",
   "metadata": {},
   "outputs": [
    {
     "name": "stdout",
     "output_type": "stream",
     "text": [
      "['Company Recruiter', 'Company HR', 'Company Recruiter', 'Founder CEO', 'Recruitment Lead Consultant', 'Programme Manager', 'HR Administrator', 'Director', 'Human Resource', 'Executive Hiring', 'Company HR', 'Company HR', 'HR Team Lead', 'HR Executive']\n",
      "['Hyderabad / Secunderabad', 'Pune', 'Ahmedabad', 'UK - (london)', 'Vadodara / Baroda', 'Chennai', 'Trivandrum', 'Indore', 'Bengaluru / Bangalore', 'Hyderabad / Secunderabad', 'Bengaluru / Bangalore', 'Mumbai', 'Hyderabad / Secunderabad', 'Mumbai']\n",
      "['Data Science Network', 'shravan Kumar Gaddam', 'Shore Infotech India Pvt. Ltd', 'MARSIAN Technologies LLP', 'MARSIAN Technologies LLP', 'Anik Agrawal', 'Enerlytics Software Solutions Pvt Ltd', 'subhas patel', 'LibraryXProject', 'Abhishek - Only Analytics Hiring - India and', 'Apidel Technologies Division of Transpower', 'Institute for Financial Management and Resear', 'IFMR', 'Balu Ramesh']\n",
      "['.Net, Java, Data Science, Linux Administration, Sql Server Development, Winforms, Wcf Services, Wpf, Telecom Engineering, Technical Management, Software', 'Data Science, Artificial Intelligence, Machine Learning, Business Analytics, Deep Learning, statistics, Data Analytics, Data Analysis, support vector machine', 'Mean Stack, javascript, angularjs, mongodb, Web Services, rest, express, Node.js, Big Data, iot, Data Science, Cloud Computing, saas, Aws', 'Hadoop, Spark, Digital Strategy, Data Architecture, Command Center, Cdp, Dmp, Kafka, Data Science, Data Analysis, Big Data Analytics, Real Time Analysis, SQL', 'Analytics, Business Intelligence, Business Analytics, Predictive Modeling, Predictive Analytics, Data Science, Data Analysis, Data Analytics, Big Data, Big', 'Data Science', 'Machine Learning, algorithms, Go Getter, Computer Science, spark, Big Data, hdfs, sql, cassandra, hadoop, python, scala, java, Data Science, Front End', 'Technical Training, Software Development, Presentation Skills, B.tech, M.tech, B.e., mca, msc, Computer Science, freshers, jobs in indore, Data Science, itil', 'Software Development, It Sales, Account Management, Data Analysis, Customer Service, Sr, Software Engineering, Mvc, Ajax, Asp.net, Html, C#, Javascript', 'Qa, Ui/ux, Java Developer, Java Architect, C++/qt, Php, Lamp, Api, J2ee, Java, Soa, Esb, Middleware, Bigdata Achitect, Hadoop Architect, Deep', 'Business Intelligence, Data Warehousing, Data Science, Business Analytics, Customer Support, Business Reporting, Bi', 'Office Administration, Hr Administration, telecalling, client relationship management, Client Acquisition, Sales, Reception, HR, Recruitment, Onboarding, Human', 'Social Media, digital media maketing, seo, smm, smo, sem, Content Wirting, social media marketing, social media manager, digital media marketing manager', 'Data Science, Python, Data Analytics']\n",
      "['Skills/Roles I hire for :', 'Skills/Roles I hire for :', 'Skills/Roles I hire for :', 'Skills/Roles I hire for :', 'Skills/Roles I hire for :', 'Skills/Roles I hire for :', 'Skills/Roles I hire for :', 'Skills/Roles I hire for :', 'Skills/Roles I hire for :', 'Skills/Roles I hire for :', 'Skills/Roles I hire for :', 'Skills/Roles I hire for :', 'Skills/Roles I hire for :', 'Skills/Roles I hire for :']\n"
     ]
    }
   ],
   "source": [
    "#checking details:\n",
    "print(job_Title)\n",
    "print(job_Location)\n",
    "print(company_Name)\n",
    "print(Designation)\n",
    "print(hire_Skill) "
   ]
  },
  {
   "cell_type": "code",
   "execution_count": 48,
   "id": "9fcc5c3d",
   "metadata": {},
   "outputs": [
    {
     "data": {
      "text/html": [
       "<div>\n",
       "<style scoped>\n",
       "    .dataframe tbody tr th:only-of-type {\n",
       "        vertical-align: middle;\n",
       "    }\n",
       "\n",
       "    .dataframe tbody tr th {\n",
       "        vertical-align: top;\n",
       "    }\n",
       "\n",
       "    .dataframe thead th {\n",
       "        text-align: right;\n",
       "    }\n",
       "</style>\n",
       "<table border=\"1\" class=\"dataframe\">\n",
       "  <thead>\n",
       "    <tr style=\"text-align: right;\">\n",
       "      <th></th>\n",
       "      <th>Job_Title</th>\n",
       "      <th>Job_Location</th>\n",
       "      <th>DesignaTion</th>\n",
       "      <th>Company_Name</th>\n",
       "      <th>Hire_ Skill</th>\n",
       "    </tr>\n",
       "  </thead>\n",
       "  <tbody>\n",
       "    <tr>\n",
       "      <th>0</th>\n",
       "      <td>Company Recruiter</td>\n",
       "      <td>Hyderabad / Secunderabad</td>\n",
       "      <td>.Net, Java, Data Science, Linux Administration...</td>\n",
       "      <td>Data Science Network</td>\n",
       "      <td>Skills/Roles I hire for :</td>\n",
       "    </tr>\n",
       "    <tr>\n",
       "      <th>1</th>\n",
       "      <td>Company HR</td>\n",
       "      <td>Pune</td>\n",
       "      <td>Data Science, Artificial Intelligence, Machine...</td>\n",
       "      <td>shravan Kumar Gaddam</td>\n",
       "      <td>Skills/Roles I hire for :</td>\n",
       "    </tr>\n",
       "    <tr>\n",
       "      <th>2</th>\n",
       "      <td>Company Recruiter</td>\n",
       "      <td>Ahmedabad</td>\n",
       "      <td>Mean Stack, javascript, angularjs, mongodb, We...</td>\n",
       "      <td>Shore Infotech India Pvt. Ltd</td>\n",
       "      <td>Skills/Roles I hire for :</td>\n",
       "    </tr>\n",
       "    <tr>\n",
       "      <th>3</th>\n",
       "      <td>Founder CEO</td>\n",
       "      <td>UK - (london)</td>\n",
       "      <td>Hadoop, Spark, Digital Strategy, Data Architec...</td>\n",
       "      <td>MARSIAN Technologies LLP</td>\n",
       "      <td>Skills/Roles I hire for :</td>\n",
       "    </tr>\n",
       "    <tr>\n",
       "      <th>4</th>\n",
       "      <td>Recruitment Lead Consultant</td>\n",
       "      <td>Vadodara / Baroda</td>\n",
       "      <td>Analytics, Business Intelligence, Business Ana...</td>\n",
       "      <td>MARSIAN Technologies LLP</td>\n",
       "      <td>Skills/Roles I hire for :</td>\n",
       "    </tr>\n",
       "    <tr>\n",
       "      <th>5</th>\n",
       "      <td>Programme Manager</td>\n",
       "      <td>Chennai</td>\n",
       "      <td>Data Science</td>\n",
       "      <td>Anik Agrawal</td>\n",
       "      <td>Skills/Roles I hire for :</td>\n",
       "    </tr>\n",
       "    <tr>\n",
       "      <th>6</th>\n",
       "      <td>HR Administrator</td>\n",
       "      <td>Trivandrum</td>\n",
       "      <td>Machine Learning, algorithms, Go Getter, Compu...</td>\n",
       "      <td>Enerlytics Software Solutions Pvt Ltd</td>\n",
       "      <td>Skills/Roles I hire for :</td>\n",
       "    </tr>\n",
       "    <tr>\n",
       "      <th>7</th>\n",
       "      <td>Director</td>\n",
       "      <td>Indore</td>\n",
       "      <td>Technical Training, Software Development, Pres...</td>\n",
       "      <td>subhas patel</td>\n",
       "      <td>Skills/Roles I hire for :</td>\n",
       "    </tr>\n",
       "    <tr>\n",
       "      <th>8</th>\n",
       "      <td>Human Resource</td>\n",
       "      <td>Bengaluru / Bangalore</td>\n",
       "      <td>Software Development, It Sales, Account Manage...</td>\n",
       "      <td>LibraryXProject</td>\n",
       "      <td>Skills/Roles I hire for :</td>\n",
       "    </tr>\n",
       "    <tr>\n",
       "      <th>9</th>\n",
       "      <td>Executive Hiring</td>\n",
       "      <td>Hyderabad / Secunderabad</td>\n",
       "      <td>Qa, Ui/ux, Java Developer, Java Architect, C++...</td>\n",
       "      <td>Abhishek - Only Analytics Hiring - India and</td>\n",
       "      <td>Skills/Roles I hire for :</td>\n",
       "    </tr>\n",
       "    <tr>\n",
       "      <th>10</th>\n",
       "      <td>Company HR</td>\n",
       "      <td>Bengaluru / Bangalore</td>\n",
       "      <td>Business Intelligence, Data Warehousing, Data ...</td>\n",
       "      <td>Apidel Technologies Division of Transpower</td>\n",
       "      <td>Skills/Roles I hire for :</td>\n",
       "    </tr>\n",
       "    <tr>\n",
       "      <th>11</th>\n",
       "      <td>Company HR</td>\n",
       "      <td>Mumbai</td>\n",
       "      <td>Office Administration, Hr Administration, tele...</td>\n",
       "      <td>Institute for Financial Management and Resear</td>\n",
       "      <td>Skills/Roles I hire for :</td>\n",
       "    </tr>\n",
       "    <tr>\n",
       "      <th>12</th>\n",
       "      <td>HR Team Lead</td>\n",
       "      <td>Hyderabad / Secunderabad</td>\n",
       "      <td>Social Media, digital media maketing, seo, smm...</td>\n",
       "      <td>IFMR</td>\n",
       "      <td>Skills/Roles I hire for :</td>\n",
       "    </tr>\n",
       "    <tr>\n",
       "      <th>13</th>\n",
       "      <td>HR Executive</td>\n",
       "      <td>Mumbai</td>\n",
       "      <td>Data Science, Python, Data Analytics</td>\n",
       "      <td>Balu Ramesh</td>\n",
       "      <td>Skills/Roles I hire for :</td>\n",
       "    </tr>\n",
       "  </tbody>\n",
       "</table>\n",
       "</div>"
      ],
      "text/plain": [
       "                      Job_Title              Job_Location  \\\n",
       "0             Company Recruiter  Hyderabad / Secunderabad   \n",
       "1                    Company HR                      Pune   \n",
       "2             Company Recruiter                 Ahmedabad   \n",
       "3                   Founder CEO             UK - (london)   \n",
       "4   Recruitment Lead Consultant         Vadodara / Baroda   \n",
       "5             Programme Manager                   Chennai   \n",
       "6              HR Administrator                Trivandrum   \n",
       "7                      Director                    Indore   \n",
       "8                Human Resource     Bengaluru / Bangalore   \n",
       "9              Executive Hiring  Hyderabad / Secunderabad   \n",
       "10                   Company HR     Bengaluru / Bangalore   \n",
       "11                   Company HR                    Mumbai   \n",
       "12                 HR Team Lead  Hyderabad / Secunderabad   \n",
       "13                 HR Executive                    Mumbai   \n",
       "\n",
       "                                          DesignaTion  \\\n",
       "0   .Net, Java, Data Science, Linux Administration...   \n",
       "1   Data Science, Artificial Intelligence, Machine...   \n",
       "2   Mean Stack, javascript, angularjs, mongodb, We...   \n",
       "3   Hadoop, Spark, Digital Strategy, Data Architec...   \n",
       "4   Analytics, Business Intelligence, Business Ana...   \n",
       "5                                        Data Science   \n",
       "6   Machine Learning, algorithms, Go Getter, Compu...   \n",
       "7   Technical Training, Software Development, Pres...   \n",
       "8   Software Development, It Sales, Account Manage...   \n",
       "9   Qa, Ui/ux, Java Developer, Java Architect, C++...   \n",
       "10  Business Intelligence, Data Warehousing, Data ...   \n",
       "11  Office Administration, Hr Administration, tele...   \n",
       "12  Social Media, digital media maketing, seo, smm...   \n",
       "13               Data Science, Python, Data Analytics   \n",
       "\n",
       "                                     Company_Name                Hire_ Skill  \n",
       "0                            Data Science Network  Skills/Roles I hire for :  \n",
       "1                            shravan Kumar Gaddam  Skills/Roles I hire for :  \n",
       "2                   Shore Infotech India Pvt. Ltd  Skills/Roles I hire for :  \n",
       "3                        MARSIAN Technologies LLP  Skills/Roles I hire for :  \n",
       "4                        MARSIAN Technologies LLP  Skills/Roles I hire for :  \n",
       "5                                    Anik Agrawal  Skills/Roles I hire for :  \n",
       "6           Enerlytics Software Solutions Pvt Ltd  Skills/Roles I hire for :  \n",
       "7                                    subhas patel  Skills/Roles I hire for :  \n",
       "8                                 LibraryXProject  Skills/Roles I hire for :  \n",
       "9    Abhishek - Only Analytics Hiring - India and  Skills/Roles I hire for :  \n",
       "10     Apidel Technologies Division of Transpower  Skills/Roles I hire for :  \n",
       "11  Institute for Financial Management and Resear  Skills/Roles I hire for :  \n",
       "12                                           IFMR  Skills/Roles I hire for :  \n",
       "13                                    Balu Ramesh  Skills/Roles I hire for :  "
      ]
     },
     "execution_count": 48,
     "metadata": {},
     "output_type": "execute_result"
    }
   ],
   "source": [
    "# make a dataframe:\n",
    "data=pd.DataFrame()\n",
    "data['Job_Title']=job_Title\n",
    "data['Job_Location']=job_Location\n",
    "data['DesignaTion']=Designation\n",
    "data['Company_Name']=company_Name\n",
    "data['Hire_ Skill']=hire_Skill\n",
    "data"
   ]
  },
  {
   "cell_type": "code",
   "execution_count": 49,
   "id": "f1e39822",
   "metadata": {},
   "outputs": [],
   "source": [
    "#save data to csv as a file\n",
    "data.to_csv('Datascience details.csv1', index=False )"
   ]
  },
  {
   "cell_type": "markdown",
   "id": "894ebb4e",
   "metadata": {},
   "source": [
    "# Q8.Scrap the details of highest selling novels:"
   ]
  },
  {
   "cell_type": "code",
   "execution_count": 71,
   "id": "a6fa99e1",
   "metadata": {},
   "outputs": [],
   "source": [
    "#lets first connect to the driver  # this is method one to connect to the webdriver # this s good.\n",
    "driver=webdriver.Chrome(r\"C:\\Users\\md\\Downloads\\chromedriver_win32 (1)\\chromedriver.exe\")"
   ]
  },
  {
   "cell_type": "code",
   "execution_count": 72,
   "id": "ea666b90",
   "metadata": {},
   "outputs": [],
   "source": [
    "#opening the url page on outmated chrome browser\n",
    "driver.get('https://www.theguardian.com/news/datablog/2012/aug/09/best-selling-books-all-time-fifty-shades-grey-compare')"
   ]
  },
  {
   "cell_type": "code",
   "execution_count": 73,
   "id": "e53bf1d8",
   "metadata": {},
   "outputs": [],
   "source": [
    "# make a empty dataframe:\n",
    "book_name = []\n",
    "author_name = []\n",
    "volumes_sold = []\n",
    "publisher = []\n",
    "genre = []"
   ]
  },
  {
   "cell_type": "code",
   "execution_count": 91,
   "id": "e143c146",
   "metadata": {},
   "outputs": [],
   "source": [
    "#Scrapping BOOK_NAME from the given page\n",
    "name_tags=driver.find_elements(By.XPATH,\"//td[@class='left']\")\n",
    "for i in name_tags[1:18]:\n",
    "    name=i.text\n",
    "    book_name.append(name)\n",
    "    \n",
    "#Scrapping AUTHOR_NAME from the given page\n",
    "author_tags=driver.find_elements(By.XPATH,\"//td[@class='left']\")\n",
    "for i in author_tags[1:18]:\n",
    "    author=i.text\n",
    "    author_name.append(author)\n",
    "#Scrapping VOLUMES_SOLD from the given page\n",
    "volumes_tags=driver.find_elements(By.XPATH,\"//td[@class='left']\")\n",
    "for i in volumes_tags[1:18]:\n",
    "    volumes=i.text\n",
    "    volumes_sold.append(volumes)\n",
    "#Scrapping PUBLISHER_NAME from the given page\n",
    "publish_tags=driver.find_elements(By.XPATH,\"//td[@class='left']\")\n",
    "for i in publish_tags[1:18]:\n",
    "    publish=i.text\n",
    "    publisher.append(publish)\n",
    "#scrapping GENRE from the given page:\n",
    "gen_tags=driver.find_elements(By.XPATH,\"//td[@class='last left']\")\n",
    "for i in gen_tags[1:18]:\n",
    "    gen=i.text\n",
    "    genre.append(gen)   "
   ]
  },
  {
   "cell_type": "code",
   "execution_count": 92,
   "id": "be589262",
   "metadata": {},
   "outputs": [
    {
     "name": "stdout",
     "output_type": "stream",
     "text": [
      "['1', 'Da Vinci Code,The', 'Brown, Dan', '5,094,805', 'Transworld', '2', 'Harry Potter and the Deathly Hallows', 'Rowling, J.K.', '4,475,152', 'Bloomsbury', '3', '1', 'Da Vinci Code,The', 'Brown, Dan', '5,094,805', 'Transworld', '2', 'Harry Potter and the Deathly Hallows', 'Rowling, J.K.', '4,475,152', 'Bloomsbury', '3', 'Da Vinci Code,The', 'Brown, Dan', '5,094,805', 'Transworld', '2', 'Harry Potter and the Deathly Hallows', 'Rowling, J.K.', '4,475,152', 'Bloomsbury', '3', \"Harry Potter and the Philosopher's Stone\", 'Rowling, J.K.', '4,200,654', 'Bloomsbury', '4', 'Harry Potter and the Order of the Phoenix', 'Rowling, J.K.']\n",
      "['1', 'Da Vinci Code,The', 'Brown, Dan', '5,094,805', 'Transworld', '2', 'Harry Potter and the Deathly Hallows', 'Rowling, J.K.', '4,475,152', 'Bloomsbury', '3', '1', 'Da Vinci Code,The', 'Brown, Dan', '5,094,805', 'Transworld', '2', 'Harry Potter and the Deathly Hallows', 'Rowling, J.K.', '4,475,152', 'Bloomsbury', '3', 'Da Vinci Code,The', 'Brown, Dan', '5,094,805', 'Transworld', '2', 'Harry Potter and the Deathly Hallows', 'Rowling, J.K.', '4,475,152', 'Bloomsbury', '3', \"Harry Potter and the Philosopher's Stone\", 'Rowling, J.K.', '4,200,654', 'Bloomsbury', '4', 'Harry Potter and the Order of the Phoenix', 'Rowling, J.K.']\n",
      "['1', 'Da Vinci Code,The', 'Brown, Dan', '5,094,805', 'Transworld', '2', 'Harry Potter and the Deathly Hallows', 'Rowling, J.K.', '4,475,152', 'Bloomsbury', '3', '1', 'Da Vinci Code,The', 'Brown, Dan', '5,094,805', 'Transworld', '2', 'Harry Potter and the Deathly Hallows', 'Rowling, J.K.', '4,475,152', 'Bloomsbury', '3', 'Da Vinci Code,The', 'Brown, Dan', '5,094,805', 'Transworld', '2', 'Harry Potter and the Deathly Hallows', 'Rowling, J.K.', '4,475,152', 'Bloomsbury', '3', \"Harry Potter and the Philosopher's Stone\", 'Rowling, J.K.', '4,200,654', 'Bloomsbury', '4', 'Harry Potter and the Order of the Phoenix', 'Rowling, J.K.']\n",
      "['1', 'Da Vinci Code,The', 'Brown, Dan', '5,094,805', 'Transworld', '2', 'Harry Potter and the Deathly Hallows', 'Rowling, J.K.', '4,475,152', 'Bloomsbury', '3', '1', 'Da Vinci Code,The', 'Brown, Dan', '5,094,805', 'Transworld', '2', 'Harry Potter and the Deathly Hallows', 'Rowling, J.K.', '4,475,152', 'Bloomsbury', '3', 'Da Vinci Code,The', 'Brown, Dan', '5,094,805', 'Transworld', '2', 'Harry Potter and the Deathly Hallows', 'Rowling, J.K.', '4,475,152', 'Bloomsbury', '3', \"Harry Potter and the Philosopher's Stone\", 'Rowling, J.K.', '4,200,654', 'Bloomsbury', '4', 'Harry Potter and the Order of the Phoenix', 'Rowling, J.K.']\n",
      "['Crime, Thriller & Adventure', \"Children's Fiction\", \"Children's Fiction\", \"Children's Fiction\", 'Romance & Sagas', \"Children's Fiction\", \"Children's Fiction\", \"Children's Fiction\", 'Crime, Thriller & Adventure', \"Children's Fiction\", 'Romance & Sagas', 'Crime, Thriller & Adventure', \"Children's Fiction\", \"Children's Fiction\", \"Children's Fiction\", 'Romance & Sagas', \"Children's Fiction\", \"Children's Fiction\", \"Children's Fiction\", 'Crime, Thriller & Adventure', \"Children's Fiction\", 'Romance & Sagas', \"Children's Fiction\", \"Children's Fiction\", \"Children's Fiction\", 'Romance & Sagas', \"Children's Fiction\", \"Children's Fiction\", \"Children's Fiction\", 'Crime, Thriller & Adventure', \"Children's Fiction\", 'Romance & Sagas', 'Young Adult Fiction', 'Crime, Thriller & Adventure', 'Romance & Sagas', 'Crime, Thriller & Adventure', 'Young Adult Fiction', 'Crime, Thriller & Adventure', 'Young Adult Fiction']\n"
     ]
    }
   ],
   "source": [
    "# checking details:\n",
    "print(book_name)\n",
    "print(author_name)\n",
    "print(volumes_sold)\n",
    "print(publisher)\n",
    "print(genre)"
   ]
  },
  {
   "cell_type": "code",
   "execution_count": 93,
   "id": "491abd26",
   "metadata": {},
   "outputs": [
    {
     "data": {
      "text/plain": [
       "39"
      ]
     },
     "execution_count": 93,
     "metadata": {},
     "output_type": "execute_result"
    }
   ],
   "source": [
    "# checking length:\n",
    "len(book_name)\n",
    "len(author_name)\n",
    "len(volumes_sold)\n",
    "len(publisher)\n",
    "len(genre)"
   ]
  },
  {
   "cell_type": "code",
   "execution_count": 94,
   "id": "a456c9d5",
   "metadata": {},
   "outputs": [
    {
     "data": {
      "text/html": [
       "<div>\n",
       "<style scoped>\n",
       "    .dataframe tbody tr th:only-of-type {\n",
       "        vertical-align: middle;\n",
       "    }\n",
       "\n",
       "    .dataframe tbody tr th {\n",
       "        vertical-align: top;\n",
       "    }\n",
       "\n",
       "    .dataframe thead th {\n",
       "        text-align: right;\n",
       "    }\n",
       "</style>\n",
       "<table border=\"1\" class=\"dataframe\">\n",
       "  <thead>\n",
       "    <tr style=\"text-align: right;\">\n",
       "      <th></th>\n",
       "      <th>Book_name</th>\n",
       "      <th>Author_name</th>\n",
       "      <th>Volumes_sold</th>\n",
       "      <th>Publisher</th>\n",
       "      <th>Genre</th>\n",
       "    </tr>\n",
       "  </thead>\n",
       "  <tbody>\n",
       "    <tr>\n",
       "      <th>0</th>\n",
       "      <td>1</td>\n",
       "      <td>1</td>\n",
       "      <td>1</td>\n",
       "      <td>1</td>\n",
       "      <td>Crime, Thriller &amp; Adventure</td>\n",
       "    </tr>\n",
       "    <tr>\n",
       "      <th>1</th>\n",
       "      <td>Da Vinci Code,The</td>\n",
       "      <td>Da Vinci Code,The</td>\n",
       "      <td>Da Vinci Code,The</td>\n",
       "      <td>Da Vinci Code,The</td>\n",
       "      <td>Children's Fiction</td>\n",
       "    </tr>\n",
       "    <tr>\n",
       "      <th>2</th>\n",
       "      <td>Brown, Dan</td>\n",
       "      <td>Brown, Dan</td>\n",
       "      <td>Brown, Dan</td>\n",
       "      <td>Brown, Dan</td>\n",
       "      <td>Children's Fiction</td>\n",
       "    </tr>\n",
       "    <tr>\n",
       "      <th>3</th>\n",
       "      <td>5,094,805</td>\n",
       "      <td>5,094,805</td>\n",
       "      <td>5,094,805</td>\n",
       "      <td>5,094,805</td>\n",
       "      <td>Children's Fiction</td>\n",
       "    </tr>\n",
       "    <tr>\n",
       "      <th>4</th>\n",
       "      <td>Transworld</td>\n",
       "      <td>Transworld</td>\n",
       "      <td>Transworld</td>\n",
       "      <td>Transworld</td>\n",
       "      <td>Romance &amp; Sagas</td>\n",
       "    </tr>\n",
       "    <tr>\n",
       "      <th>5</th>\n",
       "      <td>2</td>\n",
       "      <td>2</td>\n",
       "      <td>2</td>\n",
       "      <td>2</td>\n",
       "      <td>Children's Fiction</td>\n",
       "    </tr>\n",
       "    <tr>\n",
       "      <th>6</th>\n",
       "      <td>Harry Potter and the Deathly Hallows</td>\n",
       "      <td>Harry Potter and the Deathly Hallows</td>\n",
       "      <td>Harry Potter and the Deathly Hallows</td>\n",
       "      <td>Harry Potter and the Deathly Hallows</td>\n",
       "      <td>Children's Fiction</td>\n",
       "    </tr>\n",
       "    <tr>\n",
       "      <th>7</th>\n",
       "      <td>Rowling, J.K.</td>\n",
       "      <td>Rowling, J.K.</td>\n",
       "      <td>Rowling, J.K.</td>\n",
       "      <td>Rowling, J.K.</td>\n",
       "      <td>Children's Fiction</td>\n",
       "    </tr>\n",
       "    <tr>\n",
       "      <th>8</th>\n",
       "      <td>4,475,152</td>\n",
       "      <td>4,475,152</td>\n",
       "      <td>4,475,152</td>\n",
       "      <td>4,475,152</td>\n",
       "      <td>Crime, Thriller &amp; Adventure</td>\n",
       "    </tr>\n",
       "    <tr>\n",
       "      <th>9</th>\n",
       "      <td>Bloomsbury</td>\n",
       "      <td>Bloomsbury</td>\n",
       "      <td>Bloomsbury</td>\n",
       "      <td>Bloomsbury</td>\n",
       "      <td>Children's Fiction</td>\n",
       "    </tr>\n",
       "    <tr>\n",
       "      <th>10</th>\n",
       "      <td>3</td>\n",
       "      <td>3</td>\n",
       "      <td>3</td>\n",
       "      <td>3</td>\n",
       "      <td>Romance &amp; Sagas</td>\n",
       "    </tr>\n",
       "    <tr>\n",
       "      <th>11</th>\n",
       "      <td>1</td>\n",
       "      <td>1</td>\n",
       "      <td>1</td>\n",
       "      <td>1</td>\n",
       "      <td>Crime, Thriller &amp; Adventure</td>\n",
       "    </tr>\n",
       "    <tr>\n",
       "      <th>12</th>\n",
       "      <td>Da Vinci Code,The</td>\n",
       "      <td>Da Vinci Code,The</td>\n",
       "      <td>Da Vinci Code,The</td>\n",
       "      <td>Da Vinci Code,The</td>\n",
       "      <td>Children's Fiction</td>\n",
       "    </tr>\n",
       "    <tr>\n",
       "      <th>13</th>\n",
       "      <td>Brown, Dan</td>\n",
       "      <td>Brown, Dan</td>\n",
       "      <td>Brown, Dan</td>\n",
       "      <td>Brown, Dan</td>\n",
       "      <td>Children's Fiction</td>\n",
       "    </tr>\n",
       "    <tr>\n",
       "      <th>14</th>\n",
       "      <td>5,094,805</td>\n",
       "      <td>5,094,805</td>\n",
       "      <td>5,094,805</td>\n",
       "      <td>5,094,805</td>\n",
       "      <td>Children's Fiction</td>\n",
       "    </tr>\n",
       "    <tr>\n",
       "      <th>15</th>\n",
       "      <td>Transworld</td>\n",
       "      <td>Transworld</td>\n",
       "      <td>Transworld</td>\n",
       "      <td>Transworld</td>\n",
       "      <td>Romance &amp; Sagas</td>\n",
       "    </tr>\n",
       "    <tr>\n",
       "      <th>16</th>\n",
       "      <td>2</td>\n",
       "      <td>2</td>\n",
       "      <td>2</td>\n",
       "      <td>2</td>\n",
       "      <td>Children's Fiction</td>\n",
       "    </tr>\n",
       "    <tr>\n",
       "      <th>17</th>\n",
       "      <td>Harry Potter and the Deathly Hallows</td>\n",
       "      <td>Harry Potter and the Deathly Hallows</td>\n",
       "      <td>Harry Potter and the Deathly Hallows</td>\n",
       "      <td>Harry Potter and the Deathly Hallows</td>\n",
       "      <td>Children's Fiction</td>\n",
       "    </tr>\n",
       "    <tr>\n",
       "      <th>18</th>\n",
       "      <td>Rowling, J.K.</td>\n",
       "      <td>Rowling, J.K.</td>\n",
       "      <td>Rowling, J.K.</td>\n",
       "      <td>Rowling, J.K.</td>\n",
       "      <td>Children's Fiction</td>\n",
       "    </tr>\n",
       "    <tr>\n",
       "      <th>19</th>\n",
       "      <td>4,475,152</td>\n",
       "      <td>4,475,152</td>\n",
       "      <td>4,475,152</td>\n",
       "      <td>4,475,152</td>\n",
       "      <td>Crime, Thriller &amp; Adventure</td>\n",
       "    </tr>\n",
       "    <tr>\n",
       "      <th>20</th>\n",
       "      <td>Bloomsbury</td>\n",
       "      <td>Bloomsbury</td>\n",
       "      <td>Bloomsbury</td>\n",
       "      <td>Bloomsbury</td>\n",
       "      <td>Children's Fiction</td>\n",
       "    </tr>\n",
       "    <tr>\n",
       "      <th>21</th>\n",
       "      <td>3</td>\n",
       "      <td>3</td>\n",
       "      <td>3</td>\n",
       "      <td>3</td>\n",
       "      <td>Romance &amp; Sagas</td>\n",
       "    </tr>\n",
       "    <tr>\n",
       "      <th>22</th>\n",
       "      <td>Da Vinci Code,The</td>\n",
       "      <td>Da Vinci Code,The</td>\n",
       "      <td>Da Vinci Code,The</td>\n",
       "      <td>Da Vinci Code,The</td>\n",
       "      <td>Children's Fiction</td>\n",
       "    </tr>\n",
       "    <tr>\n",
       "      <th>23</th>\n",
       "      <td>Brown, Dan</td>\n",
       "      <td>Brown, Dan</td>\n",
       "      <td>Brown, Dan</td>\n",
       "      <td>Brown, Dan</td>\n",
       "      <td>Children's Fiction</td>\n",
       "    </tr>\n",
       "    <tr>\n",
       "      <th>24</th>\n",
       "      <td>5,094,805</td>\n",
       "      <td>5,094,805</td>\n",
       "      <td>5,094,805</td>\n",
       "      <td>5,094,805</td>\n",
       "      <td>Children's Fiction</td>\n",
       "    </tr>\n",
       "    <tr>\n",
       "      <th>25</th>\n",
       "      <td>Transworld</td>\n",
       "      <td>Transworld</td>\n",
       "      <td>Transworld</td>\n",
       "      <td>Transworld</td>\n",
       "      <td>Romance &amp; Sagas</td>\n",
       "    </tr>\n",
       "    <tr>\n",
       "      <th>26</th>\n",
       "      <td>2</td>\n",
       "      <td>2</td>\n",
       "      <td>2</td>\n",
       "      <td>2</td>\n",
       "      <td>Children's Fiction</td>\n",
       "    </tr>\n",
       "    <tr>\n",
       "      <th>27</th>\n",
       "      <td>Harry Potter and the Deathly Hallows</td>\n",
       "      <td>Harry Potter and the Deathly Hallows</td>\n",
       "      <td>Harry Potter and the Deathly Hallows</td>\n",
       "      <td>Harry Potter and the Deathly Hallows</td>\n",
       "      <td>Children's Fiction</td>\n",
       "    </tr>\n",
       "    <tr>\n",
       "      <th>28</th>\n",
       "      <td>Rowling, J.K.</td>\n",
       "      <td>Rowling, J.K.</td>\n",
       "      <td>Rowling, J.K.</td>\n",
       "      <td>Rowling, J.K.</td>\n",
       "      <td>Children's Fiction</td>\n",
       "    </tr>\n",
       "    <tr>\n",
       "      <th>29</th>\n",
       "      <td>4,475,152</td>\n",
       "      <td>4,475,152</td>\n",
       "      <td>4,475,152</td>\n",
       "      <td>4,475,152</td>\n",
       "      <td>Crime, Thriller &amp; Adventure</td>\n",
       "    </tr>\n",
       "    <tr>\n",
       "      <th>30</th>\n",
       "      <td>Bloomsbury</td>\n",
       "      <td>Bloomsbury</td>\n",
       "      <td>Bloomsbury</td>\n",
       "      <td>Bloomsbury</td>\n",
       "      <td>Children's Fiction</td>\n",
       "    </tr>\n",
       "    <tr>\n",
       "      <th>31</th>\n",
       "      <td>3</td>\n",
       "      <td>3</td>\n",
       "      <td>3</td>\n",
       "      <td>3</td>\n",
       "      <td>Romance &amp; Sagas</td>\n",
       "    </tr>\n",
       "    <tr>\n",
       "      <th>32</th>\n",
       "      <td>Harry Potter and the Philosopher's Stone</td>\n",
       "      <td>Harry Potter and the Philosopher's Stone</td>\n",
       "      <td>Harry Potter and the Philosopher's Stone</td>\n",
       "      <td>Harry Potter and the Philosopher's Stone</td>\n",
       "      <td>Young Adult Fiction</td>\n",
       "    </tr>\n",
       "    <tr>\n",
       "      <th>33</th>\n",
       "      <td>Rowling, J.K.</td>\n",
       "      <td>Rowling, J.K.</td>\n",
       "      <td>Rowling, J.K.</td>\n",
       "      <td>Rowling, J.K.</td>\n",
       "      <td>Crime, Thriller &amp; Adventure</td>\n",
       "    </tr>\n",
       "    <tr>\n",
       "      <th>34</th>\n",
       "      <td>4,200,654</td>\n",
       "      <td>4,200,654</td>\n",
       "      <td>4,200,654</td>\n",
       "      <td>4,200,654</td>\n",
       "      <td>Romance &amp; Sagas</td>\n",
       "    </tr>\n",
       "    <tr>\n",
       "      <th>35</th>\n",
       "      <td>Bloomsbury</td>\n",
       "      <td>Bloomsbury</td>\n",
       "      <td>Bloomsbury</td>\n",
       "      <td>Bloomsbury</td>\n",
       "      <td>Crime, Thriller &amp; Adventure</td>\n",
       "    </tr>\n",
       "    <tr>\n",
       "      <th>36</th>\n",
       "      <td>4</td>\n",
       "      <td>4</td>\n",
       "      <td>4</td>\n",
       "      <td>4</td>\n",
       "      <td>Young Adult Fiction</td>\n",
       "    </tr>\n",
       "    <tr>\n",
       "      <th>37</th>\n",
       "      <td>Harry Potter and the Order of the Phoenix</td>\n",
       "      <td>Harry Potter and the Order of the Phoenix</td>\n",
       "      <td>Harry Potter and the Order of the Phoenix</td>\n",
       "      <td>Harry Potter and the Order of the Phoenix</td>\n",
       "      <td>Crime, Thriller &amp; Adventure</td>\n",
       "    </tr>\n",
       "    <tr>\n",
       "      <th>38</th>\n",
       "      <td>Rowling, J.K.</td>\n",
       "      <td>Rowling, J.K.</td>\n",
       "      <td>Rowling, J.K.</td>\n",
       "      <td>Rowling, J.K.</td>\n",
       "      <td>Young Adult Fiction</td>\n",
       "    </tr>\n",
       "  </tbody>\n",
       "</table>\n",
       "</div>"
      ],
      "text/plain": [
       "                                    Book_name  \\\n",
       "0                                           1   \n",
       "1                           Da Vinci Code,The   \n",
       "2                                  Brown, Dan   \n",
       "3                                   5,094,805   \n",
       "4                                  Transworld   \n",
       "5                                           2   \n",
       "6        Harry Potter and the Deathly Hallows   \n",
       "7                               Rowling, J.K.   \n",
       "8                                   4,475,152   \n",
       "9                                  Bloomsbury   \n",
       "10                                          3   \n",
       "11                                          1   \n",
       "12                          Da Vinci Code,The   \n",
       "13                                 Brown, Dan   \n",
       "14                                  5,094,805   \n",
       "15                                 Transworld   \n",
       "16                                          2   \n",
       "17       Harry Potter and the Deathly Hallows   \n",
       "18                              Rowling, J.K.   \n",
       "19                                  4,475,152   \n",
       "20                                 Bloomsbury   \n",
       "21                                          3   \n",
       "22                          Da Vinci Code,The   \n",
       "23                                 Brown, Dan   \n",
       "24                                  5,094,805   \n",
       "25                                 Transworld   \n",
       "26                                          2   \n",
       "27       Harry Potter and the Deathly Hallows   \n",
       "28                              Rowling, J.K.   \n",
       "29                                  4,475,152   \n",
       "30                                 Bloomsbury   \n",
       "31                                          3   \n",
       "32   Harry Potter and the Philosopher's Stone   \n",
       "33                              Rowling, J.K.   \n",
       "34                                  4,200,654   \n",
       "35                                 Bloomsbury   \n",
       "36                                          4   \n",
       "37  Harry Potter and the Order of the Phoenix   \n",
       "38                              Rowling, J.K.   \n",
       "\n",
       "                                  Author_name  \\\n",
       "0                                           1   \n",
       "1                           Da Vinci Code,The   \n",
       "2                                  Brown, Dan   \n",
       "3                                   5,094,805   \n",
       "4                                  Transworld   \n",
       "5                                           2   \n",
       "6        Harry Potter and the Deathly Hallows   \n",
       "7                               Rowling, J.K.   \n",
       "8                                   4,475,152   \n",
       "9                                  Bloomsbury   \n",
       "10                                          3   \n",
       "11                                          1   \n",
       "12                          Da Vinci Code,The   \n",
       "13                                 Brown, Dan   \n",
       "14                                  5,094,805   \n",
       "15                                 Transworld   \n",
       "16                                          2   \n",
       "17       Harry Potter and the Deathly Hallows   \n",
       "18                              Rowling, J.K.   \n",
       "19                                  4,475,152   \n",
       "20                                 Bloomsbury   \n",
       "21                                          3   \n",
       "22                          Da Vinci Code,The   \n",
       "23                                 Brown, Dan   \n",
       "24                                  5,094,805   \n",
       "25                                 Transworld   \n",
       "26                                          2   \n",
       "27       Harry Potter and the Deathly Hallows   \n",
       "28                              Rowling, J.K.   \n",
       "29                                  4,475,152   \n",
       "30                                 Bloomsbury   \n",
       "31                                          3   \n",
       "32   Harry Potter and the Philosopher's Stone   \n",
       "33                              Rowling, J.K.   \n",
       "34                                  4,200,654   \n",
       "35                                 Bloomsbury   \n",
       "36                                          4   \n",
       "37  Harry Potter and the Order of the Phoenix   \n",
       "38                              Rowling, J.K.   \n",
       "\n",
       "                                 Volumes_sold  \\\n",
       "0                                           1   \n",
       "1                           Da Vinci Code,The   \n",
       "2                                  Brown, Dan   \n",
       "3                                   5,094,805   \n",
       "4                                  Transworld   \n",
       "5                                           2   \n",
       "6        Harry Potter and the Deathly Hallows   \n",
       "7                               Rowling, J.K.   \n",
       "8                                   4,475,152   \n",
       "9                                  Bloomsbury   \n",
       "10                                          3   \n",
       "11                                          1   \n",
       "12                          Da Vinci Code,The   \n",
       "13                                 Brown, Dan   \n",
       "14                                  5,094,805   \n",
       "15                                 Transworld   \n",
       "16                                          2   \n",
       "17       Harry Potter and the Deathly Hallows   \n",
       "18                              Rowling, J.K.   \n",
       "19                                  4,475,152   \n",
       "20                                 Bloomsbury   \n",
       "21                                          3   \n",
       "22                          Da Vinci Code,The   \n",
       "23                                 Brown, Dan   \n",
       "24                                  5,094,805   \n",
       "25                                 Transworld   \n",
       "26                                          2   \n",
       "27       Harry Potter and the Deathly Hallows   \n",
       "28                              Rowling, J.K.   \n",
       "29                                  4,475,152   \n",
       "30                                 Bloomsbury   \n",
       "31                                          3   \n",
       "32   Harry Potter and the Philosopher's Stone   \n",
       "33                              Rowling, J.K.   \n",
       "34                                  4,200,654   \n",
       "35                                 Bloomsbury   \n",
       "36                                          4   \n",
       "37  Harry Potter and the Order of the Phoenix   \n",
       "38                              Rowling, J.K.   \n",
       "\n",
       "                                    Publisher                        Genre  \n",
       "0                                           1  Crime, Thriller & Adventure  \n",
       "1                           Da Vinci Code,The           Children's Fiction  \n",
       "2                                  Brown, Dan           Children's Fiction  \n",
       "3                                   5,094,805           Children's Fiction  \n",
       "4                                  Transworld              Romance & Sagas  \n",
       "5                                           2           Children's Fiction  \n",
       "6        Harry Potter and the Deathly Hallows           Children's Fiction  \n",
       "7                               Rowling, J.K.           Children's Fiction  \n",
       "8                                   4,475,152  Crime, Thriller & Adventure  \n",
       "9                                  Bloomsbury           Children's Fiction  \n",
       "10                                          3              Romance & Sagas  \n",
       "11                                          1  Crime, Thriller & Adventure  \n",
       "12                          Da Vinci Code,The           Children's Fiction  \n",
       "13                                 Brown, Dan           Children's Fiction  \n",
       "14                                  5,094,805           Children's Fiction  \n",
       "15                                 Transworld              Romance & Sagas  \n",
       "16                                          2           Children's Fiction  \n",
       "17       Harry Potter and the Deathly Hallows           Children's Fiction  \n",
       "18                              Rowling, J.K.           Children's Fiction  \n",
       "19                                  4,475,152  Crime, Thriller & Adventure  \n",
       "20                                 Bloomsbury           Children's Fiction  \n",
       "21                                          3              Romance & Sagas  \n",
       "22                          Da Vinci Code,The           Children's Fiction  \n",
       "23                                 Brown, Dan           Children's Fiction  \n",
       "24                                  5,094,805           Children's Fiction  \n",
       "25                                 Transworld              Romance & Sagas  \n",
       "26                                          2           Children's Fiction  \n",
       "27       Harry Potter and the Deathly Hallows           Children's Fiction  \n",
       "28                              Rowling, J.K.           Children's Fiction  \n",
       "29                                  4,475,152  Crime, Thriller & Adventure  \n",
       "30                                 Bloomsbury           Children's Fiction  \n",
       "31                                          3              Romance & Sagas  \n",
       "32   Harry Potter and the Philosopher's Stone          Young Adult Fiction  \n",
       "33                              Rowling, J.K.  Crime, Thriller & Adventure  \n",
       "34                                  4,200,654              Romance & Sagas  \n",
       "35                                 Bloomsbury  Crime, Thriller & Adventure  \n",
       "36                                          4          Young Adult Fiction  \n",
       "37  Harry Potter and the Order of the Phoenix  Crime, Thriller & Adventure  \n",
       "38                              Rowling, J.K.          Young Adult Fiction  "
      ]
     },
     "execution_count": 94,
     "metadata": {},
     "output_type": "execute_result"
    }
   ],
   "source": [
    "#Make a dataframe\n",
    "data = pd.DataFrame()\n",
    "data[\"Book_name\"] = book_name\n",
    "data['Author_name'] = author_name\n",
    "data['Volumes_sold']=volumes_sold\n",
    "data[\"Publisher\"] = publisher\n",
    "data['Genre'] = genre\n",
    "data"
   ]
  },
  {
   "cell_type": "code",
   "execution_count": 96,
   "id": "17c51ede",
   "metadata": {},
   "outputs": [],
   "source": [
    "#save data to csv as a file\n",
    "data.to_csv('highest selling novels1.csv', index=False )"
   ]
  },
  {
   "cell_type": "markdown",
   "id": "fb37719d",
   "metadata": {},
   "source": [
    "# Q9.Scrap the details most watched tv series of all time from imdb.com"
   ]
  },
  {
   "cell_type": "code",
   "execution_count": 88,
   "id": "2b22c0bc",
   "metadata": {},
   "outputs": [],
   "source": [
    "#lets first connect to the driver  # this is method one to connect to the webdriver # this s good.\n",
    "driver=webdriver.Chrome(r\"C:\\Users\\md\\Downloads\\chromedriver_win32 (1)\\chromedriver.exe\")"
   ]
  },
  {
   "cell_type": "code",
   "execution_count": 89,
   "id": "5061a5fd",
   "metadata": {},
   "outputs": [],
   "source": [
    "#opening the url page on outmated chrome browser\n",
    "driver.get('https://www.imdb.com/list/ls095964455/')"
   ]
  },
  {
   "cell_type": "code",
   "execution_count": 90,
   "id": "b9dd1d12",
   "metadata": {},
   "outputs": [],
   "source": [
    "# make a empty dataframe:\n",
    "name = []\n",
    "year_span = []\n",
    "run_time= []\n",
    "ratings = []\n",
    "genre = []"
   ]
  },
  {
   "cell_type": "code",
   "execution_count": 91,
   "id": "a78bc396",
   "metadata": {},
   "outputs": [],
   "source": [
    "#Scrapping series_name from the given page\n",
    "name_tags=driver.find_elements(By.XPATH,\"//h3[@class='lister-item-header']\")\n",
    "for i in name_tags[0:11]:\n",
    "    name=i.text\n",
    "    book_name.append(name)\n",
    "    \n",
    "#Scrapping year_span from the given page\n",
    "year_tags=driver.find_elements(By.XPATH,\"//span[@class='lister-item-year text-muted unbold']\")\n",
    "for i in year_tags[0:11]:\n",
    "    year=i.text\n",
    "    year_span.append(year)\n",
    "#Scrapping run _time from the given page\n",
    "run_tags=driver.find_elements(By.XPATH,\"//span[@class='runtime']\")\n",
    "for i in run_tags[0:11]:\n",
    "    run=i.text\n",
    "    run_time.append(run)\n",
    "#Scrapping ratings from the given page\n",
    "rating_tags=driver.find_elements(By.XPATH,\"//div[@class='ipl-rating-widget']\")\n",
    "for i in rating_tags[0:11]:\n",
    "    rating=i.text\n",
    "    ratings.append(rating)\n",
    "# Scrapping genre from the given page:\n",
    "gen_tags=driver.find_elements(By.XPATH,\"//p[@class='text-muted text-small']\")\n",
    "for i in gen_tags[0:11]:\n",
    "    gen=i.text\n",
    "    genre.append(gen)   "
   ]
  },
  {
   "cell_type": "code",
   "execution_count": 92,
   "id": "f966323b",
   "metadata": {},
   "outputs": [
    {
     "name": "stdout",
     "output_type": "stream",
     "text": [
      "11. Money Heist (2017–2021)\n",
      "['(2011–2019)', '(2016– )', '(2010–2022)', '(2017–2020)', '(2014–2020)', '(2013–2019)', '(2017– )', '(2005– )', '(2014–2023)', '(2012–2020)', '(2017–2021)']\n",
      "['57 min', '51 min', '44 min', '60 min', '43 min', '59 min', '45 min', '41 min', '43 min', '42 min', '70 min']\n",
      "['9.2\\nRate', '8.7\\nRate', '8.1\\nRate', '7.5\\nRate', '7.6\\nRate', '8.1\\nRate', '6.6\\nRate', '7.6\\nRate', '7.6\\nRate', '7.5\\nRate', '8.2\\nRate']\n",
      "['TV-MA | 57 min | Action, Adventure, Drama', 'Stars: Emilia Clarke, Peter Dinklage, Kit Harington, Lena Headey', 'Votes: 2,098,407', 'TV-14 | 51 min | Drama, Fantasy, Horror', 'Stars: Millie Bobby Brown, Finn Wolfhard, Winona Ryder, David Harbour', 'Votes: 1,188,533', 'TV-MA | 44 min | Drama, Horror, Thriller', 'Stars: Andrew Lincoln, Norman Reedus, Melissa McBride, Lauren Cohan', 'Votes: 993,309', 'TV-MA | 60 min | Drama, Mystery, Thriller', 'Stars: Dylan Minnette, Katherine Langford, Christian Navarro, Alisha Boe']\n"
     ]
    }
   ],
   "source": [
    " # checking  details:\n",
    "print(name)\n",
    "print(year_span)\n",
    "print(run_time)\n",
    "print(ratings)\n",
    "print(genre) "
   ]
  },
  {
   "cell_type": "code",
   "execution_count": 93,
   "id": "27735170",
   "metadata": {},
   "outputs": [
    {
     "data": {
      "text/plain": [
       "11"
      ]
     },
     "execution_count": 93,
     "metadata": {},
     "output_type": "execute_result"
    }
   ],
   "source": [
    "#checking length:\n",
    "len(name)\n",
    "len(year_span)\n",
    "len(run_time)\n",
    "len(ratings)\n",
    "len(genre)"
   ]
  },
  {
   "cell_type": "code",
   "execution_count": 94,
   "id": "0f71ecf3",
   "metadata": {},
   "outputs": [
    {
     "data": {
      "text/html": [
       "<div>\n",
       "<style scoped>\n",
       "    .dataframe tbody tr th:only-of-type {\n",
       "        vertical-align: middle;\n",
       "    }\n",
       "\n",
       "    .dataframe tbody tr th {\n",
       "        vertical-align: top;\n",
       "    }\n",
       "\n",
       "    .dataframe thead th {\n",
       "        text-align: right;\n",
       "    }\n",
       "</style>\n",
       "<table border=\"1\" class=\"dataframe\">\n",
       "  <thead>\n",
       "    <tr style=\"text-align: right;\">\n",
       "      <th></th>\n",
       "      <th>name</th>\n",
       "      <th>Year_span</th>\n",
       "      <th>Run_time</th>\n",
       "      <th>Ratings</th>\n",
       "      <th>Genre</th>\n",
       "    </tr>\n",
       "  </thead>\n",
       "  <tbody>\n",
       "    <tr>\n",
       "      <th>0</th>\n",
       "      <td>NaN</td>\n",
       "      <td>(2011–2019)</td>\n",
       "      <td>57 min</td>\n",
       "      <td>9.2\\nRate</td>\n",
       "      <td>TV-MA | 57 min | Action, Adventure, Drama</td>\n",
       "    </tr>\n",
       "    <tr>\n",
       "      <th>1</th>\n",
       "      <td>NaN</td>\n",
       "      <td>(2016– )</td>\n",
       "      <td>51 min</td>\n",
       "      <td>8.7\\nRate</td>\n",
       "      <td>Stars: Emilia Clarke, Peter Dinklage, Kit Hari...</td>\n",
       "    </tr>\n",
       "    <tr>\n",
       "      <th>2</th>\n",
       "      <td>NaN</td>\n",
       "      <td>(2010–2022)</td>\n",
       "      <td>44 min</td>\n",
       "      <td>8.1\\nRate</td>\n",
       "      <td>Votes: 2,098,407</td>\n",
       "    </tr>\n",
       "    <tr>\n",
       "      <th>3</th>\n",
       "      <td>NaN</td>\n",
       "      <td>(2017–2020)</td>\n",
       "      <td>60 min</td>\n",
       "      <td>7.5\\nRate</td>\n",
       "      <td>TV-14 | 51 min | Drama, Fantasy, Horror</td>\n",
       "    </tr>\n",
       "    <tr>\n",
       "      <th>4</th>\n",
       "      <td>NaN</td>\n",
       "      <td>(2014–2020)</td>\n",
       "      <td>43 min</td>\n",
       "      <td>7.6\\nRate</td>\n",
       "      <td>Stars: Millie Bobby Brown, Finn Wolfhard, Wino...</td>\n",
       "    </tr>\n",
       "    <tr>\n",
       "      <th>5</th>\n",
       "      <td>NaN</td>\n",
       "      <td>(2013–2019)</td>\n",
       "      <td>59 min</td>\n",
       "      <td>8.1\\nRate</td>\n",
       "      <td>Votes: 1,188,533</td>\n",
       "    </tr>\n",
       "    <tr>\n",
       "      <th>6</th>\n",
       "      <td>NaN</td>\n",
       "      <td>(2017– )</td>\n",
       "      <td>45 min</td>\n",
       "      <td>6.6\\nRate</td>\n",
       "      <td>TV-MA | 44 min | Drama, Horror, Thriller</td>\n",
       "    </tr>\n",
       "    <tr>\n",
       "      <th>7</th>\n",
       "      <td>NaN</td>\n",
       "      <td>(2005– )</td>\n",
       "      <td>41 min</td>\n",
       "      <td>7.6\\nRate</td>\n",
       "      <td>Stars: Andrew Lincoln, Norman Reedus, Melissa ...</td>\n",
       "    </tr>\n",
       "    <tr>\n",
       "      <th>8</th>\n",
       "      <td>NaN</td>\n",
       "      <td>(2014–2023)</td>\n",
       "      <td>43 min</td>\n",
       "      <td>7.6\\nRate</td>\n",
       "      <td>Votes: 993,309</td>\n",
       "    </tr>\n",
       "    <tr>\n",
       "      <th>9</th>\n",
       "      <td>NaN</td>\n",
       "      <td>(2012–2020)</td>\n",
       "      <td>42 min</td>\n",
       "      <td>7.5\\nRate</td>\n",
       "      <td>TV-MA | 60 min | Drama, Mystery, Thriller</td>\n",
       "    </tr>\n",
       "    <tr>\n",
       "      <th>10</th>\n",
       "      <td>NaN</td>\n",
       "      <td>(2017–2021)</td>\n",
       "      <td>70 min</td>\n",
       "      <td>8.2\\nRate</td>\n",
       "      <td>Stars: Dylan Minnette, Katherine Langford, Chr...</td>\n",
       "    </tr>\n",
       "  </tbody>\n",
       "</table>\n",
       "</div>"
      ],
      "text/plain": [
       "   name    Year_span Run_time    Ratings  \\\n",
       "0   NaN  (2011–2019)   57 min  9.2\\nRate   \n",
       "1   NaN     (2016– )   51 min  8.7\\nRate   \n",
       "2   NaN  (2010–2022)   44 min  8.1\\nRate   \n",
       "3   NaN  (2017–2020)   60 min  7.5\\nRate   \n",
       "4   NaN  (2014–2020)   43 min  7.6\\nRate   \n",
       "5   NaN  (2013–2019)   59 min  8.1\\nRate   \n",
       "6   NaN     (2017– )   45 min  6.6\\nRate   \n",
       "7   NaN     (2005– )   41 min  7.6\\nRate   \n",
       "8   NaN  (2014–2023)   43 min  7.6\\nRate   \n",
       "9   NaN  (2012–2020)   42 min  7.5\\nRate   \n",
       "10  NaN  (2017–2021)   70 min  8.2\\nRate   \n",
       "\n",
       "                                                Genre  \n",
       "0           TV-MA | 57 min | Action, Adventure, Drama  \n",
       "1   Stars: Emilia Clarke, Peter Dinklage, Kit Hari...  \n",
       "2                                    Votes: 2,098,407  \n",
       "3             TV-14 | 51 min | Drama, Fantasy, Horror  \n",
       "4   Stars: Millie Bobby Brown, Finn Wolfhard, Wino...  \n",
       "5                                    Votes: 1,188,533  \n",
       "6            TV-MA | 44 min | Drama, Horror, Thriller  \n",
       "7   Stars: Andrew Lincoln, Norman Reedus, Melissa ...  \n",
       "8                                      Votes: 993,309  \n",
       "9           TV-MA | 60 min | Drama, Mystery, Thriller  \n",
       "10  Stars: Dylan Minnette, Katherine Langford, Chr...  "
      ]
     },
     "execution_count": 94,
     "metadata": {},
     "output_type": "execute_result"
    }
   ],
   "source": [
    " # Make a dataframe:\n",
    "data = pd.DataFrame()\n",
    "data[\"name\"] = name\n",
    "data['Year_span'] =year_span\n",
    "data['Run_time']=run_time\n",
    "data[\"Ratings\"] = ratings\n",
    "data['Genre'] = genre\n",
    "data"
   ]
  },
  {
   "cell_type": "code",
   "execution_count": 112,
   "id": "aac34efb",
   "metadata": {},
   "outputs": [],
   "source": [
    "#save data to csv as a file\n",
    "data.to_csv('Tv_series details.csv', index=False )"
   ]
  },
  {
   "cell_type": "markdown",
   "id": "396e26fb",
   "metadata": {},
   "source": [
    "# Q10.Scrap the details from UCI machine learning repositories."
   ]
  },
  {
   "cell_type": "code",
   "execution_count": 97,
   "id": "8c21c562",
   "metadata": {},
   "outputs": [],
   "source": [
    "#lets first connect to the driver  # this is method one to connect to the webdriver # this s good.\n",
    "driver=webdriver.Chrome(r\"C:\\Users\\md\\Downloads\\chromedriver_win32 (1)\\chromedriver.exe\")"
   ]
  },
  {
   "cell_type": "code",
   "execution_count": 98,
   "id": "293bd286",
   "metadata": {},
   "outputs": [],
   "source": [
    "#opening the url page on outmated chrome browser\n",
    "driver.get('https://archive.ics.uci.edu/ml/datasets.php')"
   ]
  },
  {
   "cell_type": "code",
   "execution_count": 100,
   "id": "b94aeeec",
   "metadata": {},
   "outputs": [],
   "source": [
    "# make a empty dataframe:\n",
    "dataset_name = []\n",
    "data_type = []\n",
    "repo_task= []\n",
    "attribute_type = []\n",
    "no_of_instances = []\n",
    "no_of_attribute =[]\n",
    "repo_year = []"
   ]
  },
  {
   "cell_type": "code",
   "execution_count": 101,
   "id": "53567d76",
   "metadata": {},
   "outputs": [],
   "source": [
    "#Scrapping series_name from the given page\n",
    "name_tags=driver.find_elements(By.XPATH,\"//p[@class='normal']\")\n",
    "for i in name_tags[0:11]:\n",
    "    name=i.text\n",
    "    dataset_name.append(name)\n",
    "    \n",
    "#Scrapping year_span from the given page\n",
    "dtype_tags=driver.find_elements(By.XPATH,\"//p[@class='normal']\")\n",
    "for i in dtype_tags[0:11]:\n",
    "    dtype=i.text\n",
    "    data_type.append(dtype)\n",
    "#Scrapping run _time from the given page\n",
    "task_tags=driver.find_elements(By.XPATH,\"//p[@class='normal']\")\n",
    "for i in task_tags[0:11]:\n",
    "    task=i.text\n",
    "    repo_task.append(task)\n",
    "#Scrapping run _time from the given page\n",
    "instances_tags=driver.find_elements(By.XPATH,\"//p[@class='normal']\")\n",
    "for i in instances_tags[0:11]:\n",
    "    instances=i.text\n",
    "    no_of_instances.append(instances)   \n",
    "#Scrapping ratings from the given page\n",
    "attribute_tags=driver.find_elements(By.XPATH,\"//p[@class='normal']\")\n",
    "for i in attribute_tags[0:11]:\n",
    "    attribute=i.text\n",
    "    no_of_attribute.append(attribute)\n",
    "#\n",
    "attributet_tags=driver.find_elements(By.XPATH,\"//p[@class='normal']\")\n",
    "for i in attributet_tags[0:11]:\n",
    "    attributet=i.text\n",
    "    attribute_type.append(attributet)\n",
    "# Scrapping genre from the given page:\n",
    "year_tags=driver.find_elements(By.XPATH,\"//p[@class='normal']\")\n",
    "for i in year_tags[0:11]:\n",
    "    year=i.text\n",
    "    repo_year.append(year)   "
   ]
  },
  {
   "cell_type": "code",
   "execution_count": 102,
   "id": "6606eea5",
   "metadata": {},
   "outputs": [
    {
     "data": {
      "text/plain": [
       "11"
      ]
     },
     "execution_count": 102,
     "metadata": {},
     "output_type": "execute_result"
    }
   ],
   "source": [
    "#Checking length:\n",
    "len(dataset_name)\n",
    "len(data_type)\n",
    "len(repo_task)\n",
    "len(attribute_type) \n",
    "len(no_of_instances) \n",
    "len(no_of_attribute)\n",
    "len(repo_year) "
   ]
  },
  {
   "cell_type": "code",
   "execution_count": 103,
   "id": "ecf469d1",
   "metadata": {},
   "outputs": [
    {
     "name": "stdout",
     "output_type": "stream",
     "text": [
      "['Classification (466)\\nRegression (151)\\nClustering (121)\\nOther (56)', 'Categorical (38)\\nNumerical (422)\\nMixed (55)', 'Multivariate (480)\\nUnivariate (30)\\nSequential (59)\\nTime-Series (126)\\nText (69)\\nDomain-Theory (23)\\nOther (21)', 'Life Sciences (147)\\nPhysical Sciences (57)\\nCS / Engineering (234)\\nSocial Sciences (41)\\nBusiness (45)\\nGame (12)\\nOther (81)', 'Less than 10 (166)\\n10 to 100 (279)\\nGreater than 100 (110)', 'Less than 100 (38)\\n100 to 1000 (210)\\nGreater than 1000 (339)', 'Matrix (439)\\nNon-Matrix (183)', 'Table View  List View', 'Abalone', 'Multivariate ', 'Classification ']\n",
      "['Classification (466)\\nRegression (151)\\nClustering (121)\\nOther (56)', 'Categorical (38)\\nNumerical (422)\\nMixed (55)', 'Multivariate (480)\\nUnivariate (30)\\nSequential (59)\\nTime-Series (126)\\nText (69)\\nDomain-Theory (23)\\nOther (21)', 'Life Sciences (147)\\nPhysical Sciences (57)\\nCS / Engineering (234)\\nSocial Sciences (41)\\nBusiness (45)\\nGame (12)\\nOther (81)', 'Less than 10 (166)\\n10 to 100 (279)\\nGreater than 100 (110)', 'Less than 100 (38)\\n100 to 1000 (210)\\nGreater than 1000 (339)', 'Matrix (439)\\nNon-Matrix (183)', 'Table View  List View', 'Abalone', 'Multivariate ', 'Classification ']\n",
      "['Classification (466)\\nRegression (151)\\nClustering (121)\\nOther (56)', 'Categorical (38)\\nNumerical (422)\\nMixed (55)', 'Multivariate (480)\\nUnivariate (30)\\nSequential (59)\\nTime-Series (126)\\nText (69)\\nDomain-Theory (23)\\nOther (21)', 'Life Sciences (147)\\nPhysical Sciences (57)\\nCS / Engineering (234)\\nSocial Sciences (41)\\nBusiness (45)\\nGame (12)\\nOther (81)', 'Less than 10 (166)\\n10 to 100 (279)\\nGreater than 100 (110)', 'Less than 100 (38)\\n100 to 1000 (210)\\nGreater than 1000 (339)', 'Matrix (439)\\nNon-Matrix (183)', 'Table View  List View', 'Abalone', 'Multivariate ', 'Classification ']\n",
      "['Classification (466)\\nRegression (151)\\nClustering (121)\\nOther (56)', 'Categorical (38)\\nNumerical (422)\\nMixed (55)', 'Multivariate (480)\\nUnivariate (30)\\nSequential (59)\\nTime-Series (126)\\nText (69)\\nDomain-Theory (23)\\nOther (21)', 'Life Sciences (147)\\nPhysical Sciences (57)\\nCS / Engineering (234)\\nSocial Sciences (41)\\nBusiness (45)\\nGame (12)\\nOther (81)', 'Less than 10 (166)\\n10 to 100 (279)\\nGreater than 100 (110)', 'Less than 100 (38)\\n100 to 1000 (210)\\nGreater than 1000 (339)', 'Matrix (439)\\nNon-Matrix (183)', 'Table View  List View', 'Abalone', 'Multivariate ', 'Classification ']\n",
      "['Classification (466)\\nRegression (151)\\nClustering (121)\\nOther (56)', 'Categorical (38)\\nNumerical (422)\\nMixed (55)', 'Multivariate (480)\\nUnivariate (30)\\nSequential (59)\\nTime-Series (126)\\nText (69)\\nDomain-Theory (23)\\nOther (21)', 'Life Sciences (147)\\nPhysical Sciences (57)\\nCS / Engineering (234)\\nSocial Sciences (41)\\nBusiness (45)\\nGame (12)\\nOther (81)', 'Less than 10 (166)\\n10 to 100 (279)\\nGreater than 100 (110)', 'Less than 100 (38)\\n100 to 1000 (210)\\nGreater than 1000 (339)', 'Matrix (439)\\nNon-Matrix (183)', 'Table View  List View', 'Abalone', 'Multivariate ', 'Classification ']\n",
      "['Classification (466)\\nRegression (151)\\nClustering (121)\\nOther (56)', 'Categorical (38)\\nNumerical (422)\\nMixed (55)', 'Multivariate (480)\\nUnivariate (30)\\nSequential (59)\\nTime-Series (126)\\nText (69)\\nDomain-Theory (23)\\nOther (21)', 'Life Sciences (147)\\nPhysical Sciences (57)\\nCS / Engineering (234)\\nSocial Sciences (41)\\nBusiness (45)\\nGame (12)\\nOther (81)', 'Less than 10 (166)\\n10 to 100 (279)\\nGreater than 100 (110)', 'Less than 100 (38)\\n100 to 1000 (210)\\nGreater than 1000 (339)', 'Matrix (439)\\nNon-Matrix (183)', 'Table View  List View', 'Abalone', 'Multivariate ', 'Classification ']\n",
      "['Classification (466)\\nRegression (151)\\nClustering (121)\\nOther (56)', 'Categorical (38)\\nNumerical (422)\\nMixed (55)', 'Multivariate (480)\\nUnivariate (30)\\nSequential (59)\\nTime-Series (126)\\nText (69)\\nDomain-Theory (23)\\nOther (21)', 'Life Sciences (147)\\nPhysical Sciences (57)\\nCS / Engineering (234)\\nSocial Sciences (41)\\nBusiness (45)\\nGame (12)\\nOther (81)', 'Less than 10 (166)\\n10 to 100 (279)\\nGreater than 100 (110)', 'Less than 100 (38)\\n100 to 1000 (210)\\nGreater than 1000 (339)', 'Matrix (439)\\nNon-Matrix (183)', 'Table View  List View', 'Abalone', 'Multivariate ', 'Classification ']\n"
     ]
    }
   ],
   "source": [
    "# Checking details:\n",
    "print(dataset_name)\n",
    "print(data_type)\n",
    "print(repo_task)\n",
    "print(attribute_type)\n",
    "print(no_of_instances) \n",
    "print(no_of_attribute) \n",
    "print(repo_year)"
   ]
  },
  {
   "cell_type": "code",
   "execution_count": 104,
   "id": "862ba535",
   "metadata": {},
   "outputs": [
    {
     "data": {
      "text/html": [
       "<div>\n",
       "<style scoped>\n",
       "    .dataframe tbody tr th:only-of-type {\n",
       "        vertical-align: middle;\n",
       "    }\n",
       "\n",
       "    .dataframe tbody tr th {\n",
       "        vertical-align: top;\n",
       "    }\n",
       "\n",
       "    .dataframe thead th {\n",
       "        text-align: right;\n",
       "    }\n",
       "</style>\n",
       "<table border=\"1\" class=\"dataframe\">\n",
       "  <thead>\n",
       "    <tr style=\"text-align: right;\">\n",
       "      <th></th>\n",
       "      <th>Dataset_name</th>\n",
       "      <th>Data_type</th>\n",
       "      <th>Repo_task</th>\n",
       "      <th>Attribute_type</th>\n",
       "      <th>No_of_instances</th>\n",
       "      <th>No_of_attribute</th>\n",
       "      <th>Repo_year</th>\n",
       "    </tr>\n",
       "  </thead>\n",
       "  <tbody>\n",
       "    <tr>\n",
       "      <th>0</th>\n",
       "      <td>Classification (466)\\nRegression (151)\\nCluste...</td>\n",
       "      <td>Classification (466)\\nRegression (151)\\nCluste...</td>\n",
       "      <td>Classification (466)\\nRegression (151)\\nCluste...</td>\n",
       "      <td>Classification (466)\\nRegression (151)\\nCluste...</td>\n",
       "      <td>Classification (466)\\nRegression (151)\\nCluste...</td>\n",
       "      <td>Classification (466)\\nRegression (151)\\nCluste...</td>\n",
       "      <td>Classification (466)\\nRegression (151)\\nCluste...</td>\n",
       "    </tr>\n",
       "    <tr>\n",
       "      <th>1</th>\n",
       "      <td>Categorical (38)\\nNumerical (422)\\nMixed (55)</td>\n",
       "      <td>Categorical (38)\\nNumerical (422)\\nMixed (55)</td>\n",
       "      <td>Categorical (38)\\nNumerical (422)\\nMixed (55)</td>\n",
       "      <td>Categorical (38)\\nNumerical (422)\\nMixed (55)</td>\n",
       "      <td>Categorical (38)\\nNumerical (422)\\nMixed (55)</td>\n",
       "      <td>Categorical (38)\\nNumerical (422)\\nMixed (55)</td>\n",
       "      <td>Categorical (38)\\nNumerical (422)\\nMixed (55)</td>\n",
       "    </tr>\n",
       "    <tr>\n",
       "      <th>2</th>\n",
       "      <td>Multivariate (480)\\nUnivariate (30)\\nSequentia...</td>\n",
       "      <td>Multivariate (480)\\nUnivariate (30)\\nSequentia...</td>\n",
       "      <td>Multivariate (480)\\nUnivariate (30)\\nSequentia...</td>\n",
       "      <td>Multivariate (480)\\nUnivariate (30)\\nSequentia...</td>\n",
       "      <td>Multivariate (480)\\nUnivariate (30)\\nSequentia...</td>\n",
       "      <td>Multivariate (480)\\nUnivariate (30)\\nSequentia...</td>\n",
       "      <td>Multivariate (480)\\nUnivariate (30)\\nSequentia...</td>\n",
       "    </tr>\n",
       "    <tr>\n",
       "      <th>3</th>\n",
       "      <td>Life Sciences (147)\\nPhysical Sciences (57)\\nC...</td>\n",
       "      <td>Life Sciences (147)\\nPhysical Sciences (57)\\nC...</td>\n",
       "      <td>Life Sciences (147)\\nPhysical Sciences (57)\\nC...</td>\n",
       "      <td>Life Sciences (147)\\nPhysical Sciences (57)\\nC...</td>\n",
       "      <td>Life Sciences (147)\\nPhysical Sciences (57)\\nC...</td>\n",
       "      <td>Life Sciences (147)\\nPhysical Sciences (57)\\nC...</td>\n",
       "      <td>Life Sciences (147)\\nPhysical Sciences (57)\\nC...</td>\n",
       "    </tr>\n",
       "    <tr>\n",
       "      <th>4</th>\n",
       "      <td>Less than 10 (166)\\n10 to 100 (279)\\nGreater t...</td>\n",
       "      <td>Less than 10 (166)\\n10 to 100 (279)\\nGreater t...</td>\n",
       "      <td>Less than 10 (166)\\n10 to 100 (279)\\nGreater t...</td>\n",
       "      <td>Less than 10 (166)\\n10 to 100 (279)\\nGreater t...</td>\n",
       "      <td>Less than 10 (166)\\n10 to 100 (279)\\nGreater t...</td>\n",
       "      <td>Less than 10 (166)\\n10 to 100 (279)\\nGreater t...</td>\n",
       "      <td>Less than 10 (166)\\n10 to 100 (279)\\nGreater t...</td>\n",
       "    </tr>\n",
       "    <tr>\n",
       "      <th>5</th>\n",
       "      <td>Less than 100 (38)\\n100 to 1000 (210)\\nGreater...</td>\n",
       "      <td>Less than 100 (38)\\n100 to 1000 (210)\\nGreater...</td>\n",
       "      <td>Less than 100 (38)\\n100 to 1000 (210)\\nGreater...</td>\n",
       "      <td>Less than 100 (38)\\n100 to 1000 (210)\\nGreater...</td>\n",
       "      <td>Less than 100 (38)\\n100 to 1000 (210)\\nGreater...</td>\n",
       "      <td>Less than 100 (38)\\n100 to 1000 (210)\\nGreater...</td>\n",
       "      <td>Less than 100 (38)\\n100 to 1000 (210)\\nGreater...</td>\n",
       "    </tr>\n",
       "    <tr>\n",
       "      <th>6</th>\n",
       "      <td>Matrix (439)\\nNon-Matrix (183)</td>\n",
       "      <td>Matrix (439)\\nNon-Matrix (183)</td>\n",
       "      <td>Matrix (439)\\nNon-Matrix (183)</td>\n",
       "      <td>Matrix (439)\\nNon-Matrix (183)</td>\n",
       "      <td>Matrix (439)\\nNon-Matrix (183)</td>\n",
       "      <td>Matrix (439)\\nNon-Matrix (183)</td>\n",
       "      <td>Matrix (439)\\nNon-Matrix (183)</td>\n",
       "    </tr>\n",
       "    <tr>\n",
       "      <th>7</th>\n",
       "      <td>Table View  List View</td>\n",
       "      <td>Table View  List View</td>\n",
       "      <td>Table View  List View</td>\n",
       "      <td>Table View  List View</td>\n",
       "      <td>Table View  List View</td>\n",
       "      <td>Table View  List View</td>\n",
       "      <td>Table View  List View</td>\n",
       "    </tr>\n",
       "    <tr>\n",
       "      <th>8</th>\n",
       "      <td>Abalone</td>\n",
       "      <td>Abalone</td>\n",
       "      <td>Abalone</td>\n",
       "      <td>Abalone</td>\n",
       "      <td>Abalone</td>\n",
       "      <td>Abalone</td>\n",
       "      <td>Abalone</td>\n",
       "    </tr>\n",
       "    <tr>\n",
       "      <th>9</th>\n",
       "      <td>Multivariate</td>\n",
       "      <td>Multivariate</td>\n",
       "      <td>Multivariate</td>\n",
       "      <td>Multivariate</td>\n",
       "      <td>Multivariate</td>\n",
       "      <td>Multivariate</td>\n",
       "      <td>Multivariate</td>\n",
       "    </tr>\n",
       "    <tr>\n",
       "      <th>10</th>\n",
       "      <td>Classification</td>\n",
       "      <td>Classification</td>\n",
       "      <td>Classification</td>\n",
       "      <td>Classification</td>\n",
       "      <td>Classification</td>\n",
       "      <td>Classification</td>\n",
       "      <td>Classification</td>\n",
       "    </tr>\n",
       "  </tbody>\n",
       "</table>\n",
       "</div>"
      ],
      "text/plain": [
       "                                         Dataset_name  \\\n",
       "0   Classification (466)\\nRegression (151)\\nCluste...   \n",
       "1       Categorical (38)\\nNumerical (422)\\nMixed (55)   \n",
       "2   Multivariate (480)\\nUnivariate (30)\\nSequentia...   \n",
       "3   Life Sciences (147)\\nPhysical Sciences (57)\\nC...   \n",
       "4   Less than 10 (166)\\n10 to 100 (279)\\nGreater t...   \n",
       "5   Less than 100 (38)\\n100 to 1000 (210)\\nGreater...   \n",
       "6                      Matrix (439)\\nNon-Matrix (183)   \n",
       "7                               Table View  List View   \n",
       "8                                             Abalone   \n",
       "9                                       Multivariate    \n",
       "10                                    Classification    \n",
       "\n",
       "                                            Data_type  \\\n",
       "0   Classification (466)\\nRegression (151)\\nCluste...   \n",
       "1       Categorical (38)\\nNumerical (422)\\nMixed (55)   \n",
       "2   Multivariate (480)\\nUnivariate (30)\\nSequentia...   \n",
       "3   Life Sciences (147)\\nPhysical Sciences (57)\\nC...   \n",
       "4   Less than 10 (166)\\n10 to 100 (279)\\nGreater t...   \n",
       "5   Less than 100 (38)\\n100 to 1000 (210)\\nGreater...   \n",
       "6                      Matrix (439)\\nNon-Matrix (183)   \n",
       "7                               Table View  List View   \n",
       "8                                             Abalone   \n",
       "9                                       Multivariate    \n",
       "10                                    Classification    \n",
       "\n",
       "                                            Repo_task  \\\n",
       "0   Classification (466)\\nRegression (151)\\nCluste...   \n",
       "1       Categorical (38)\\nNumerical (422)\\nMixed (55)   \n",
       "2   Multivariate (480)\\nUnivariate (30)\\nSequentia...   \n",
       "3   Life Sciences (147)\\nPhysical Sciences (57)\\nC...   \n",
       "4   Less than 10 (166)\\n10 to 100 (279)\\nGreater t...   \n",
       "5   Less than 100 (38)\\n100 to 1000 (210)\\nGreater...   \n",
       "6                      Matrix (439)\\nNon-Matrix (183)   \n",
       "7                               Table View  List View   \n",
       "8                                             Abalone   \n",
       "9                                       Multivariate    \n",
       "10                                    Classification    \n",
       "\n",
       "                                       Attribute_type  \\\n",
       "0   Classification (466)\\nRegression (151)\\nCluste...   \n",
       "1       Categorical (38)\\nNumerical (422)\\nMixed (55)   \n",
       "2   Multivariate (480)\\nUnivariate (30)\\nSequentia...   \n",
       "3   Life Sciences (147)\\nPhysical Sciences (57)\\nC...   \n",
       "4   Less than 10 (166)\\n10 to 100 (279)\\nGreater t...   \n",
       "5   Less than 100 (38)\\n100 to 1000 (210)\\nGreater...   \n",
       "6                      Matrix (439)\\nNon-Matrix (183)   \n",
       "7                               Table View  List View   \n",
       "8                                             Abalone   \n",
       "9                                       Multivariate    \n",
       "10                                    Classification    \n",
       "\n",
       "                                      No_of_instances  \\\n",
       "0   Classification (466)\\nRegression (151)\\nCluste...   \n",
       "1       Categorical (38)\\nNumerical (422)\\nMixed (55)   \n",
       "2   Multivariate (480)\\nUnivariate (30)\\nSequentia...   \n",
       "3   Life Sciences (147)\\nPhysical Sciences (57)\\nC...   \n",
       "4   Less than 10 (166)\\n10 to 100 (279)\\nGreater t...   \n",
       "5   Less than 100 (38)\\n100 to 1000 (210)\\nGreater...   \n",
       "6                      Matrix (439)\\nNon-Matrix (183)   \n",
       "7                               Table View  List View   \n",
       "8                                             Abalone   \n",
       "9                                       Multivariate    \n",
       "10                                    Classification    \n",
       "\n",
       "                                      No_of_attribute  \\\n",
       "0   Classification (466)\\nRegression (151)\\nCluste...   \n",
       "1       Categorical (38)\\nNumerical (422)\\nMixed (55)   \n",
       "2   Multivariate (480)\\nUnivariate (30)\\nSequentia...   \n",
       "3   Life Sciences (147)\\nPhysical Sciences (57)\\nC...   \n",
       "4   Less than 10 (166)\\n10 to 100 (279)\\nGreater t...   \n",
       "5   Less than 100 (38)\\n100 to 1000 (210)\\nGreater...   \n",
       "6                      Matrix (439)\\nNon-Matrix (183)   \n",
       "7                               Table View  List View   \n",
       "8                                             Abalone   \n",
       "9                                       Multivariate    \n",
       "10                                    Classification    \n",
       "\n",
       "                                            Repo_year  \n",
       "0   Classification (466)\\nRegression (151)\\nCluste...  \n",
       "1       Categorical (38)\\nNumerical (422)\\nMixed (55)  \n",
       "2   Multivariate (480)\\nUnivariate (30)\\nSequentia...  \n",
       "3   Life Sciences (147)\\nPhysical Sciences (57)\\nC...  \n",
       "4   Less than 10 (166)\\n10 to 100 (279)\\nGreater t...  \n",
       "5   Less than 100 (38)\\n100 to 1000 (210)\\nGreater...  \n",
       "6                      Matrix (439)\\nNon-Matrix (183)  \n",
       "7                               Table View  List View  \n",
       "8                                             Abalone  \n",
       "9                                       Multivariate   \n",
       "10                                    Classification   "
      ]
     },
     "execution_count": 104,
     "metadata": {},
     "output_type": "execute_result"
    }
   ],
   "source": [
    "# Make a dataframe:\n",
    "data = pd.DataFrame()\n",
    "data[\"Dataset_name\"] = dataset_name\n",
    "data['Data_type'] =data_type\n",
    "data['Repo_task']=repo_task\n",
    "data[\"Attribute_type\"] = attribute_type\n",
    "data['No_of_instances'] = no_of_instances\n",
    "data['No_of_attribute'] = no_of_attribute\n",
    "data['Repo_year'] = repo_year\n",
    "data"
   ]
  },
  {
   "cell_type": "code",
   "execution_count": 106,
   "id": "4068f7cb",
   "metadata": {},
   "outputs": [],
   "source": [
    "#save data to csv as a file\n",
    "data.to_csv('repositries details1.csv', index=False )"
   ]
  },
  {
   "cell_type": "code",
   "execution_count": null,
   "id": "1eec54e9",
   "metadata": {},
   "outputs": [],
   "source": []
  }
 ],
 "metadata": {
  "kernelspec": {
   "display_name": "Python 3 (ipykernel)",
   "language": "python",
   "name": "python3"
  },
  "language_info": {
   "codemirror_mode": {
    "name": "ipython",
    "version": 3
   },
   "file_extension": ".py",
   "mimetype": "text/x-python",
   "name": "python",
   "nbconvert_exporter": "python",
   "pygments_lexer": "ipython3",
   "version": "3.9.13"
  }
 },
 "nbformat": 4,
 "nbformat_minor": 5
}
